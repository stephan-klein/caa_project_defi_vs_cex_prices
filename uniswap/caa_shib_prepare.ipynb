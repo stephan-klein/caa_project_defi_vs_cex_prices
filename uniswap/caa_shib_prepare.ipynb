{
 "cells": [
  {
   "cell_type": "code",
   "execution_count": 17,
   "metadata": {},
   "outputs": [
    {
     "data": {
      "text/html": [
       "<div>\n",
       "<style scoped>\n",
       "    .dataframe tbody tr th:only-of-type {\n",
       "        vertical-align: middle;\n",
       "    }\n",
       "\n",
       "    .dataframe tbody tr th {\n",
       "        vertical-align: top;\n",
       "    }\n",
       "\n",
       "    .dataframe thead th {\n",
       "        text-align: right;\n",
       "    }\n",
       "</style>\n",
       "<table border=\"1\" class=\"dataframe\">\n",
       "  <thead>\n",
       "    <tr style=\"text-align: right;\">\n",
       "      <th></th>\n",
       "      <th>number</th>\n",
       "      <th>price</th>\n",
       "    </tr>\n",
       "    <tr>\n",
       "      <th>datetime</th>\n",
       "      <th></th>\n",
       "      <th></th>\n",
       "    </tr>\n",
       "  </thead>\n",
       "  <tbody>\n",
       "    <tr>\n",
       "      <th>2022-01-01 00:00:03</th>\n",
       "      <td>13916166</td>\n",
       "      <td>NaN</td>\n",
       "    </tr>\n",
       "    <tr>\n",
       "      <th>2022-01-01 00:00:09</th>\n",
       "      <td>13916167</td>\n",
       "      <td>NaN</td>\n",
       "    </tr>\n",
       "    <tr>\n",
       "      <th>2022-01-01 00:00:12</th>\n",
       "      <td>13916168</td>\n",
       "      <td>NaN</td>\n",
       "    </tr>\n",
       "    <tr>\n",
       "      <th>2022-01-01 00:00:20</th>\n",
       "      <td>13916169</td>\n",
       "      <td>NaN</td>\n",
       "    </tr>\n",
       "    <tr>\n",
       "      <th>2022-01-01 00:00:55</th>\n",
       "      <td>13916170</td>\n",
       "      <td>NaN</td>\n",
       "    </tr>\n",
       "    <tr>\n",
       "      <th>...</th>\n",
       "      <td>...</td>\n",
       "      <td>...</td>\n",
       "    </tr>\n",
       "    <tr>\n",
       "      <th>2022-01-01 01:49:44</th>\n",
       "      <td>13916661</td>\n",
       "      <td>1.722178e-11</td>\n",
       "    </tr>\n",
       "    <tr>\n",
       "      <th>2022-01-01 01:49:56</th>\n",
       "      <td>13916662</td>\n",
       "      <td>1.722178e-11</td>\n",
       "    </tr>\n",
       "    <tr>\n",
       "      <th>2022-01-01 01:50:12</th>\n",
       "      <td>13916663</td>\n",
       "      <td>1.722178e-11</td>\n",
       "    </tr>\n",
       "    <tr>\n",
       "      <th>2022-01-01 01:50:25</th>\n",
       "      <td>13916664</td>\n",
       "      <td>1.722178e-11</td>\n",
       "    </tr>\n",
       "    <tr>\n",
       "      <th>2022-01-01 01:50:53</th>\n",
       "      <td>13916665</td>\n",
       "      <td>1.722178e-11</td>\n",
       "    </tr>\n",
       "  </tbody>\n",
       "</table>\n",
       "<p>500 rows × 2 columns</p>\n",
       "</div>"
      ],
      "text/plain": [
       "                       number         price\n",
       "datetime                                   \n",
       "2022-01-01 00:00:03  13916166           NaN\n",
       "2022-01-01 00:00:09  13916167           NaN\n",
       "2022-01-01 00:00:12  13916168           NaN\n",
       "2022-01-01 00:00:20  13916169           NaN\n",
       "2022-01-01 00:00:55  13916170           NaN\n",
       "...                       ...           ...\n",
       "2022-01-01 01:49:44  13916661  1.722178e-11\n",
       "2022-01-01 01:49:56  13916662  1.722178e-11\n",
       "2022-01-01 01:50:12  13916663  1.722178e-11\n",
       "2022-01-01 01:50:25  13916664  1.722178e-11\n",
       "2022-01-01 01:50:53  13916665  1.722178e-11\n",
       "\n",
       "[500 rows x 2 columns]"
      ]
     },
     "execution_count": 17,
     "metadata": {},
     "output_type": "execute_result"
    }
   ],
   "source": [
    "import pandas as pd\n",
    "\n",
    "df_weth = pd.read_pickle(f'../datasets/dex_WETH_USDT_2022_allblocks.pkl')\n",
    "df_shib = pd.read_pickle(f'../datasets/dex_SHIB_ETH_2022_allblocks.pkl')\n",
    "\n",
    "df_shib.head(500)"
   ]
  },
  {
   "cell_type": "code",
   "execution_count": 18,
   "metadata": {},
   "outputs": [
    {
     "data": {
      "text/plain": [
       "array([False, False, False, ..., False, False, False])"
      ]
     },
     "execution_count": 18,
     "metadata": {},
     "output_type": "execute_result"
    }
   ],
   "source": [
    "df_shib.index.duplicated()"
   ]
  },
  {
   "cell_type": "code",
   "execution_count": 19,
   "metadata": {},
   "outputs": [],
   "source": [
    "df_shib = df_shib[~df_shib.index.duplicated()]\n",
    "df_weth = df_weth[~df_weth.index.duplicated()]\n",
    "df_shib['price'] = df_shib['price'] * df_weth['price']\n",
    "\n",
    "df_shib.head(500)\n",
    "df_shib.to_pickle(f'../datasets/dex_SHIB_USDT_2022_allblocks.pkl')"
   ]
  },
  {
   "cell_type": "code",
   "execution_count": null,
   "metadata": {},
   "outputs": [],
   "source": []
  },
  {
   "cell_type": "code",
   "execution_count": null,
   "metadata": {},
   "outputs": [],
   "source": []
  }
 ],
 "metadata": {
  "kernelspec": {
   "display_name": "caa_statistics",
   "language": "python",
   "name": "python3"
  },
  "language_info": {
   "codemirror_mode": {
    "name": "ipython",
    "version": 3
   },
   "file_extension": ".py",
   "mimetype": "text/x-python",
   "name": "python",
   "nbconvert_exporter": "python",
   "pygments_lexer": "ipython3",
   "version": "3.11.3"
  },
  "orig_nbformat": 4
 },
 "nbformat": 4,
 "nbformat_minor": 2
}
