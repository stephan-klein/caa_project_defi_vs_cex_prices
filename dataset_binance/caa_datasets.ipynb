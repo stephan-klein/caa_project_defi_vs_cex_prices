{
  "nbformat": 4,
  "nbformat_minor": 0,
  "metadata": {
    "colab": {
      "provenance": []
    },
    "kernelspec": {
      "name": "python3",
      "display_name": "Python 3"
    },
    "language_info": {
      "name": "python"
    }
  },
  "cells": [
    {
      "cell_type": "markdown",
      "source": [
        "### Pools\n",
        "| Pair | Uniswap Pool | Binance Spot \n",
        "| -----|--------------|----------------\n",
        "| ETH/USDT|https://info.uniswap.org/#/pools/0x11b815efb8f581194ae79006d24e0d814b7697f6|https://www.binance.com/en/trade/ETH_USDT\n",
        "| WBTC/USDT|https://info.uniswap.org/#/pools/0x9db9e0e53058c89e5b94e29621a205198648425b|https://www.binance.com/en/trade/BTC_USDT\n",
        "| UNI/USDC |https://info.uniswap.org/#/pools/0xd0fc8ba7e267f2bc56044a7715a489d851dc6d78|https://www.binance.com/en/trade/UNI_USDT\n",
        "\n",
        "\n",
        "\n",
        "APIs: Binance: https://binance-docs.github.io/apidocs/spot/en/#kline-candlestick-data\n",
        "\n",
        "Web3: https://web3py.readthedocs.io/en/stable/web3.eth.html#web3.eth.Eth.get_logs\n"
      ],
      "metadata": {
        "id": "Lfa8O1udhLqJ"
      }
    },
    {
      "cell_type": "code",
      "execution_count": null,
      "metadata": {
        "id": "HS9Dz8KcWR0t"
      },
      "outputs": [],
      "source": [
        "import pandas as pd\n"
      ]
    },
    {
      "cell_type": "markdown",
      "source": [
        "# Get Binance Data"
      ],
      "metadata": {
        "id": "UOgzuxElWglh"
      }
    },
    {
      "cell_type": "markdown",
      "source": [
        "###\n"
      ],
      "metadata": {
        "id": "B1WdwDExhEpV"
      }
    },
    {
      "cell_type": "code",
      "source": [
        "import pandas as pd\n",
        "import requests\n",
        "from datetime import datetime\n",
        "from dateutil import tz\n",
        "\n",
        "BASE_API_URL = 'https://api.binance.com/api/v3/klines'\n",
        "START_TIME = datetime(2022, 1, 1, 0, 0, 0, tzinfo=tz.tzutc())\n",
        "END_TIME = datetime(2022, 1, 31, 23, 59, 59, tzinfo=tz.tzutc())\n",
        "SYMBOL = \"BTCUSDT\"\n",
        "\n",
        "session = requests.Session()\n",
        "\n",
        "def toValidTimestamp(date):\n",
        "    return int(date.timestamp() * 1000)\n",
        "\n",
        "def getBDataFromTo(fromTime, untilTime, symbol, interval):\n",
        "  '''\n",
        "  Returs a dataframe\n",
        "  \n",
        "  '''\n",
        "  last_start_time = fromTime\n",
        "\n",
        "  dict_list = []\n",
        "\n",
        "  while (last_start_time < untilTime):\n",
        "    r = session.get(f'{BASE_API_URL}?symbol={symbol}&interval={interval}&startTime={last_start_time}')\n",
        "    j = r.json()\n",
        "    for index, item in enumerate(j):\n",
        "      time = item[0]\n",
        "      if (index == len(j)-1):\n",
        "        last_start_time = time\n",
        "        print(f'New start time: {last_start_time}')\n",
        "      new_row = {'time': pd.Timestamp(time, unit='ms'), 'open': float(item[1]), 'high': float(item[2]), 'low': float(item[3]), 'close': float(item[4]), 'volume': float(item[5])}\n",
        "      dict_list.append(new_row)\n",
        "  \n",
        "  df = pd.DataFrame(dict_list)\n",
        "  df['time'] = pd.to_datetime(df['time'])\n",
        "  df[['open', 'high', 'low', 'close', 'volume']] = df[['open', 'high', 'low', 'close', 'volume']].astype(float)\n",
        "  df.set_index('time', inplace=True)\n",
        "\n",
        "  return df\n",
        "\n",
        "\n",
        "df_r = getBDataFromTo(toValidTimestamp(START_TIME), toValidTimestamp(END_TIME), SYMBOL, \"1m\")\n",
        "df_r.info()\n",
        "df_r.head(5)\n",
        "df_r.to_pickle(f'./{START_TIME}-{END_TIME}-{SYMBOL}.pkl')"
      ],
      "metadata": {
        "id": "tLSiZatY4hjM",
        "colab": {
          "base_uri": "https://localhost:8080/",
          "height": 331
        },
        "outputId": "375ee078-450d-438f-9af0-30c1a4403ac8"
      },
      "execution_count": null,
      "outputs": [
        {
          "output_type": "stream",
          "name": "stdout",
          "text": [
            "{'code': 0, 'msg': \"Service unavailable from a restricted location according to 'b. Eligibility' in https://www.binance.com/en/terms. Please contact customer service if you believe you received this message in error.\"}\n",
            "code\n"
          ]
        },
        {
          "output_type": "error",
          "ename": "ValueError",
          "evalue": "ignored",
          "traceback": [
            "\u001b[0;31m---------------------------------------------------------------------------\u001b[0m",
            "\u001b[0;31mParserError\u001b[0m                               Traceback (most recent call last)",
            "\u001b[0;32m/usr/local/lib/python3.10/dist-packages/pandas/_libs/tslibs/conversion.pyx\u001b[0m in \u001b[0;36mpandas._libs.tslibs.conversion._convert_str_to_tsobject\u001b[0;34m()\u001b[0m\n",
            "\u001b[0;32m/usr/local/lib/python3.10/dist-packages/pandas/_libs/tslibs/parsing.pyx\u001b[0m in \u001b[0;36mpandas._libs.tslibs.parsing.parse_datetime_string\u001b[0;34m()\u001b[0m\n",
            "\u001b[0;32m/usr/local/lib/python3.10/dist-packages/dateutil/parser/_parser.py\u001b[0m in \u001b[0;36mparse\u001b[0;34m(timestr, parserinfo, **kwargs)\u001b[0m\n\u001b[1;32m   1367\u001b[0m     \u001b[0;32melse\u001b[0m\u001b[0;34m:\u001b[0m\u001b[0;34m\u001b[0m\u001b[0;34m\u001b[0m\u001b[0m\n\u001b[0;32m-> 1368\u001b[0;31m         \u001b[0;32mreturn\u001b[0m \u001b[0mDEFAULTPARSER\u001b[0m\u001b[0;34m.\u001b[0m\u001b[0mparse\u001b[0m\u001b[0;34m(\u001b[0m\u001b[0mtimestr\u001b[0m\u001b[0;34m,\u001b[0m \u001b[0;34m**\u001b[0m\u001b[0mkwargs\u001b[0m\u001b[0;34m)\u001b[0m\u001b[0;34m\u001b[0m\u001b[0;34m\u001b[0m\u001b[0m\n\u001b[0m\u001b[1;32m   1369\u001b[0m \u001b[0;34m\u001b[0m\u001b[0m\n",
            "\u001b[0;32m/usr/local/lib/python3.10/dist-packages/dateutil/parser/_parser.py\u001b[0m in \u001b[0;36mparse\u001b[0;34m(self, timestr, default, ignoretz, tzinfos, **kwargs)\u001b[0m\n\u001b[1;32m    642\u001b[0m         \u001b[0;32mif\u001b[0m \u001b[0mres\u001b[0m \u001b[0;32mis\u001b[0m \u001b[0;32mNone\u001b[0m\u001b[0;34m:\u001b[0m\u001b[0;34m\u001b[0m\u001b[0;34m\u001b[0m\u001b[0m\n\u001b[0;32m--> 643\u001b[0;31m             \u001b[0;32mraise\u001b[0m \u001b[0mParserError\u001b[0m\u001b[0;34m(\u001b[0m\u001b[0;34m\"Unknown string format: %s\"\u001b[0m\u001b[0;34m,\u001b[0m \u001b[0mtimestr\u001b[0m\u001b[0;34m)\u001b[0m\u001b[0;34m\u001b[0m\u001b[0;34m\u001b[0m\u001b[0m\n\u001b[0m\u001b[1;32m    644\u001b[0m \u001b[0;34m\u001b[0m\u001b[0m\n",
            "\u001b[0;31mParserError\u001b[0m: Unknown string format: c",
            "\nDuring handling of the above exception, another exception occurred:\n",
            "\u001b[0;31mValueError\u001b[0m                                Traceback (most recent call last)",
            "\u001b[0;32m<ipython-input-7-1b7be0439d04>\u001b[0m in \u001b[0;36m<cell line: 35>\u001b[0;34m()\u001b[0m\n\u001b[1;32m     33\u001b[0m \u001b[0;34m\u001b[0m\u001b[0m\n\u001b[1;32m     34\u001b[0m \u001b[0;34m\u001b[0m\u001b[0m\n\u001b[0;32m---> 35\u001b[0;31m \u001b[0mdf_r\u001b[0m \u001b[0;34m=\u001b[0m \u001b[0mgetBDataFromTo\u001b[0m\u001b[0;34m(\u001b[0m\u001b[0mSTART_TIME\u001b[0m\u001b[0;34m.\u001b[0m\u001b[0mtimestamp\u001b[0m\u001b[0;34m(\u001b[0m\u001b[0;34m)\u001b[0m\u001b[0;34m,\u001b[0m \u001b[0mEND_TIME\u001b[0m\u001b[0;34m.\u001b[0m\u001b[0mtimestamp\u001b[0m\u001b[0;34m(\u001b[0m\u001b[0;34m)\u001b[0m\u001b[0;34m,\u001b[0m \u001b[0;34m\"ETHUSDT\"\u001b[0m\u001b[0;34m,\u001b[0m \u001b[0;34m\"1m\"\u001b[0m\u001b[0;34m)\u001b[0m\u001b[0;34m\u001b[0m\u001b[0;34m\u001b[0m\u001b[0m\n\u001b[0m\u001b[1;32m     36\u001b[0m \u001b[0mdf_r\u001b[0m\u001b[0;34m.\u001b[0m\u001b[0minfo\u001b[0m\u001b[0;34m(\u001b[0m\u001b[0;34m)\u001b[0m\u001b[0;34m\u001b[0m\u001b[0;34m\u001b[0m\u001b[0m\n",
            "\u001b[0;32m<ipython-input-7-1b7be0439d04>\u001b[0m in \u001b[0;36mgetBDataFromTo\u001b[0;34m(fromTime, untilTime, symbol, interval)\u001b[0m\n\u001b[1;32m     28\u001b[0m       \u001b[0;32mif\u001b[0m \u001b[0;34m(\u001b[0m\u001b[0mindex\u001b[0m \u001b[0;34m==\u001b[0m \u001b[0mlen\u001b[0m\u001b[0;34m(\u001b[0m\u001b[0mj\u001b[0m\u001b[0;34m)\u001b[0m\u001b[0;34m)\u001b[0m\u001b[0;34m:\u001b[0m\u001b[0;34m\u001b[0m\u001b[0;34m\u001b[0m\u001b[0m\n\u001b[1;32m     29\u001b[0m         \u001b[0mlast_received_time\u001b[0m \u001b[0;34m=\u001b[0m \u001b[0mtime\u001b[0m\u001b[0;34m\u001b[0m\u001b[0;34m\u001b[0m\u001b[0m\n\u001b[0;32m---> 30\u001b[0;31m       \u001b[0mnew_row\u001b[0m \u001b[0;34m=\u001b[0m \u001b[0;34m{\u001b[0m\u001b[0;34m'time'\u001b[0m\u001b[0;34m:\u001b[0m \u001b[0mpd\u001b[0m\u001b[0;34m.\u001b[0m\u001b[0mTimestamp\u001b[0m\u001b[0;34m(\u001b[0m\u001b[0mtime\u001b[0m\u001b[0;34m,\u001b[0m \u001b[0munit\u001b[0m\u001b[0;34m=\u001b[0m\u001b[0;34m's'\u001b[0m\u001b[0;34m)\u001b[0m\u001b[0;34m,\u001b[0m \u001b[0;34m'open'\u001b[0m\u001b[0;34m:\u001b[0m \u001b[0mfloat\u001b[0m\u001b[0;34m(\u001b[0m\u001b[0mitem\u001b[0m\u001b[0;34m[\u001b[0m\u001b[0;36m1\u001b[0m\u001b[0;34m]\u001b[0m\u001b[0;34m)\u001b[0m\u001b[0;34m,\u001b[0m \u001b[0;34m'high'\u001b[0m\u001b[0;34m:\u001b[0m \u001b[0mfloat\u001b[0m\u001b[0;34m(\u001b[0m\u001b[0mitem\u001b[0m\u001b[0;34m[\u001b[0m\u001b[0;36m2\u001b[0m\u001b[0;34m]\u001b[0m\u001b[0;34m)\u001b[0m\u001b[0;34m,\u001b[0m \u001b[0;34m'low'\u001b[0m\u001b[0;34m:\u001b[0m \u001b[0mfloat\u001b[0m\u001b[0;34m(\u001b[0m\u001b[0mitem\u001b[0m\u001b[0;34m[\u001b[0m\u001b[0;36m3\u001b[0m\u001b[0;34m]\u001b[0m\u001b[0;34m)\u001b[0m\u001b[0;34m,\u001b[0m \u001b[0;34m'close'\u001b[0m\u001b[0;34m:\u001b[0m \u001b[0mfloat\u001b[0m\u001b[0;34m(\u001b[0m\u001b[0mitem\u001b[0m\u001b[0;34m[\u001b[0m\u001b[0;36m4\u001b[0m\u001b[0;34m]\u001b[0m\u001b[0;34m)\u001b[0m\u001b[0;34m,\u001b[0m \u001b[0;34m'volume'\u001b[0m\u001b[0;34m:\u001b[0m \u001b[0mfloat\u001b[0m\u001b[0;34m(\u001b[0m\u001b[0mitem\u001b[0m\u001b[0;34m[\u001b[0m\u001b[0;36m5\u001b[0m\u001b[0;34m]\u001b[0m\u001b[0;34m)\u001b[0m\u001b[0;34m}\u001b[0m\u001b[0;34m\u001b[0m\u001b[0;34m\u001b[0m\u001b[0m\n\u001b[0m\u001b[1;32m     31\u001b[0m       \u001b[0mdf\u001b[0m \u001b[0;34m=\u001b[0m \u001b[0mdf\u001b[0m\u001b[0;34m.\u001b[0m\u001b[0mappend\u001b[0m\u001b[0;34m(\u001b[0m\u001b[0mnew_row\u001b[0m\u001b[0;34m)\u001b[0m\u001b[0;34m\u001b[0m\u001b[0;34m\u001b[0m\u001b[0m\n\u001b[1;32m     32\u001b[0m   \u001b[0;32mreturn\u001b[0m \u001b[0mdf\u001b[0m\u001b[0;34m\u001b[0m\u001b[0;34m\u001b[0m\u001b[0m\n",
            "\u001b[0;32m/usr/local/lib/python3.10/dist-packages/pandas/_libs/tslibs/timestamps.pyx\u001b[0m in \u001b[0;36mpandas._libs.tslibs.timestamps.Timestamp.__new__\u001b[0;34m()\u001b[0m\n",
            "\u001b[0;32m/usr/local/lib/python3.10/dist-packages/pandas/_libs/tslibs/conversion.pyx\u001b[0m in \u001b[0;36mpandas._libs.tslibs.conversion.convert_to_tsobject\u001b[0;34m()\u001b[0m\n",
            "\u001b[0;32m/usr/local/lib/python3.10/dist-packages/pandas/_libs/tslibs/conversion.pyx\u001b[0m in \u001b[0;36mpandas._libs.tslibs.conversion._convert_str_to_tsobject\u001b[0;34m()\u001b[0m\n",
            "\u001b[0;31mValueError\u001b[0m: could not convert string to Timestamp"
          ]
        }
      ]
    },
    {
      "cell_type": "code",
      "source": [
        "from google.colab import drive\n",
        "drive.mount('/content/drive')"
      ],
      "metadata": {
        "colab": {
          "base_uri": "https://localhost:8080/"
        },
        "id": "2aRmCa5ZbiLZ",
        "outputId": "f3cca2ae-6d59-4930-9e7a-78b3b1f06fb0"
      },
      "execution_count": null,
      "outputs": [
        {
          "output_type": "stream",
          "name": "stdout",
          "text": [
            "Drive already mounted at /content/drive; to attempt to forcibly remount, call drive.mount(\"/content/drive\", force_remount=True).\n"
          ]
        }
      ]
    },
    {
      "cell_type": "code",
      "source": [
        "import pandas as pd\n",
        "\n",
        "df = pd.read_pickle(\"/content/drive/MyDrive/TU/2022-01-01 00:00:00+00:00-2022-01-31 23:59:59+00:00-BTCUSDT.pkl\")\n",
        "df.head(100)"
      ],
      "metadata": {
        "colab": {
          "base_uri": "https://localhost:8080/",
          "height": 655
        },
        "id": "oKHcs5ScY32J",
        "outputId": "a28c9612-3e03-4498-f5e6-2c47020f9bbb"
      },
      "execution_count": null,
      "outputs": [
        {
          "output_type": "execute_result",
          "data": {
            "text/plain": [
              "                         open      high       low     close    volume\n",
              "time                                                                 \n",
              "2022-01-01 00:00:00  46216.93  46271.08  46208.37  46250.00  40.57574\n",
              "2022-01-01 00:01:00  46250.00  46344.23  46234.39  46312.76  42.38106\n",
              "2022-01-01 00:02:00  46312.76  46381.69  46292.75  46368.73  51.29955\n",
              "2022-01-01 00:03:00  46368.73  46391.49  46314.26  46331.08  30.45894\n",
              "2022-01-01 00:04:00  46331.07  46336.10  46300.00  46321.34  20.96029\n",
              "...                       ...       ...       ...       ...       ...\n",
              "2022-01-01 01:35:00  46845.06  46874.57  46845.00  46859.38   9.98086\n",
              "2022-01-01 01:36:00  46859.37  46884.63  46857.53  46873.91  10.17456\n",
              "2022-01-01 01:37:00  46873.90  46873.91  46840.21  46840.94  10.80765\n",
              "2022-01-01 01:38:00  46840.94  46854.39  46784.38  46789.23  18.42650\n",
              "2022-01-01 01:39:00  46789.23  46811.33  46753.84  46799.90  12.48485\n",
              "\n",
              "[100 rows x 5 columns]"
            ],
            "text/html": [
              "\n",
              "  <div id=\"df-6e3026d4-36db-4ca0-87c1-593ae50e307d\">\n",
              "    <div class=\"colab-df-container\">\n",
              "      <div>\n",
              "<style scoped>\n",
              "    .dataframe tbody tr th:only-of-type {\n",
              "        vertical-align: middle;\n",
              "    }\n",
              "\n",
              "    .dataframe tbody tr th {\n",
              "        vertical-align: top;\n",
              "    }\n",
              "\n",
              "    .dataframe thead th {\n",
              "        text-align: right;\n",
              "    }\n",
              "</style>\n",
              "<table border=\"1\" class=\"dataframe\">\n",
              "  <thead>\n",
              "    <tr style=\"text-align: right;\">\n",
              "      <th></th>\n",
              "      <th>open</th>\n",
              "      <th>high</th>\n",
              "      <th>low</th>\n",
              "      <th>close</th>\n",
              "      <th>volume</th>\n",
              "    </tr>\n",
              "    <tr>\n",
              "      <th>time</th>\n",
              "      <th></th>\n",
              "      <th></th>\n",
              "      <th></th>\n",
              "      <th></th>\n",
              "      <th></th>\n",
              "    </tr>\n",
              "  </thead>\n",
              "  <tbody>\n",
              "    <tr>\n",
              "      <th>2022-01-01 00:00:00</th>\n",
              "      <td>46216.93</td>\n",
              "      <td>46271.08</td>\n",
              "      <td>46208.37</td>\n",
              "      <td>46250.00</td>\n",
              "      <td>40.57574</td>\n",
              "    </tr>\n",
              "    <tr>\n",
              "      <th>2022-01-01 00:01:00</th>\n",
              "      <td>46250.00</td>\n",
              "      <td>46344.23</td>\n",
              "      <td>46234.39</td>\n",
              "      <td>46312.76</td>\n",
              "      <td>42.38106</td>\n",
              "    </tr>\n",
              "    <tr>\n",
              "      <th>2022-01-01 00:02:00</th>\n",
              "      <td>46312.76</td>\n",
              "      <td>46381.69</td>\n",
              "      <td>46292.75</td>\n",
              "      <td>46368.73</td>\n",
              "      <td>51.29955</td>\n",
              "    </tr>\n",
              "    <tr>\n",
              "      <th>2022-01-01 00:03:00</th>\n",
              "      <td>46368.73</td>\n",
              "      <td>46391.49</td>\n",
              "      <td>46314.26</td>\n",
              "      <td>46331.08</td>\n",
              "      <td>30.45894</td>\n",
              "    </tr>\n",
              "    <tr>\n",
              "      <th>2022-01-01 00:04:00</th>\n",
              "      <td>46331.07</td>\n",
              "      <td>46336.10</td>\n",
              "      <td>46300.00</td>\n",
              "      <td>46321.34</td>\n",
              "      <td>20.96029</td>\n",
              "    </tr>\n",
              "    <tr>\n",
              "      <th>...</th>\n",
              "      <td>...</td>\n",
              "      <td>...</td>\n",
              "      <td>...</td>\n",
              "      <td>...</td>\n",
              "      <td>...</td>\n",
              "    </tr>\n",
              "    <tr>\n",
              "      <th>2022-01-01 01:35:00</th>\n",
              "      <td>46845.06</td>\n",
              "      <td>46874.57</td>\n",
              "      <td>46845.00</td>\n",
              "      <td>46859.38</td>\n",
              "      <td>9.98086</td>\n",
              "    </tr>\n",
              "    <tr>\n",
              "      <th>2022-01-01 01:36:00</th>\n",
              "      <td>46859.37</td>\n",
              "      <td>46884.63</td>\n",
              "      <td>46857.53</td>\n",
              "      <td>46873.91</td>\n",
              "      <td>10.17456</td>\n",
              "    </tr>\n",
              "    <tr>\n",
              "      <th>2022-01-01 01:37:00</th>\n",
              "      <td>46873.90</td>\n",
              "      <td>46873.91</td>\n",
              "      <td>46840.21</td>\n",
              "      <td>46840.94</td>\n",
              "      <td>10.80765</td>\n",
              "    </tr>\n",
              "    <tr>\n",
              "      <th>2022-01-01 01:38:00</th>\n",
              "      <td>46840.94</td>\n",
              "      <td>46854.39</td>\n",
              "      <td>46784.38</td>\n",
              "      <td>46789.23</td>\n",
              "      <td>18.42650</td>\n",
              "    </tr>\n",
              "    <tr>\n",
              "      <th>2022-01-01 01:39:00</th>\n",
              "      <td>46789.23</td>\n",
              "      <td>46811.33</td>\n",
              "      <td>46753.84</td>\n",
              "      <td>46799.90</td>\n",
              "      <td>12.48485</td>\n",
              "    </tr>\n",
              "  </tbody>\n",
              "</table>\n",
              "<p>100 rows × 5 columns</p>\n",
              "</div>\n",
              "      <button class=\"colab-df-convert\" onclick=\"convertToInteractive('df-6e3026d4-36db-4ca0-87c1-593ae50e307d')\"\n",
              "              title=\"Convert this dataframe to an interactive table.\"\n",
              "              style=\"display:none;\">\n",
              "        \n",
              "  <svg xmlns=\"http://www.w3.org/2000/svg\" height=\"24px\"viewBox=\"0 0 24 24\"\n",
              "       width=\"24px\">\n",
              "    <path d=\"M0 0h24v24H0V0z\" fill=\"none\"/>\n",
              "    <path d=\"M18.56 5.44l.94 2.06.94-2.06 2.06-.94-2.06-.94-.94-2.06-.94 2.06-2.06.94zm-11 1L8.5 8.5l.94-2.06 2.06-.94-2.06-.94L8.5 2.5l-.94 2.06-2.06.94zm10 10l.94 2.06.94-2.06 2.06-.94-2.06-.94-.94-2.06-.94 2.06-2.06.94z\"/><path d=\"M17.41 7.96l-1.37-1.37c-.4-.4-.92-.59-1.43-.59-.52 0-1.04.2-1.43.59L10.3 9.45l-7.72 7.72c-.78.78-.78 2.05 0 2.83L4 21.41c.39.39.9.59 1.41.59.51 0 1.02-.2 1.41-.59l7.78-7.78 2.81-2.81c.8-.78.8-2.07 0-2.86zM5.41 20L4 18.59l7.72-7.72 1.47 1.35L5.41 20z\"/>\n",
              "  </svg>\n",
              "      </button>\n",
              "      \n",
              "  <style>\n",
              "    .colab-df-container {\n",
              "      display:flex;\n",
              "      flex-wrap:wrap;\n",
              "      gap: 12px;\n",
              "    }\n",
              "\n",
              "    .colab-df-convert {\n",
              "      background-color: #E8F0FE;\n",
              "      border: none;\n",
              "      border-radius: 50%;\n",
              "      cursor: pointer;\n",
              "      display: none;\n",
              "      fill: #1967D2;\n",
              "      height: 32px;\n",
              "      padding: 0 0 0 0;\n",
              "      width: 32px;\n",
              "    }\n",
              "\n",
              "    .colab-df-convert:hover {\n",
              "      background-color: #E2EBFA;\n",
              "      box-shadow: 0px 1px 2px rgba(60, 64, 67, 0.3), 0px 1px 3px 1px rgba(60, 64, 67, 0.15);\n",
              "      fill: #174EA6;\n",
              "    }\n",
              "\n",
              "    [theme=dark] .colab-df-convert {\n",
              "      background-color: #3B4455;\n",
              "      fill: #D2E3FC;\n",
              "    }\n",
              "\n",
              "    [theme=dark] .colab-df-convert:hover {\n",
              "      background-color: #434B5C;\n",
              "      box-shadow: 0px 1px 3px 1px rgba(0, 0, 0, 0.15);\n",
              "      filter: drop-shadow(0px 1px 2px rgba(0, 0, 0, 0.3));\n",
              "      fill: #FFFFFF;\n",
              "    }\n",
              "  </style>\n",
              "\n",
              "      <script>\n",
              "        const buttonEl =\n",
              "          document.querySelector('#df-6e3026d4-36db-4ca0-87c1-593ae50e307d button.colab-df-convert');\n",
              "        buttonEl.style.display =\n",
              "          google.colab.kernel.accessAllowed ? 'block' : 'none';\n",
              "\n",
              "        async function convertToInteractive(key) {\n",
              "          const element = document.querySelector('#df-6e3026d4-36db-4ca0-87c1-593ae50e307d');\n",
              "          const dataTable =\n",
              "            await google.colab.kernel.invokeFunction('convertToInteractive',\n",
              "                                                     [key], {});\n",
              "          if (!dataTable) return;\n",
              "\n",
              "          const docLinkHtml = 'Like what you see? Visit the ' +\n",
              "            '<a target=\"_blank\" href=https://colab.research.google.com/notebooks/data_table.ipynb>data table notebook</a>'\n",
              "            + ' to learn more about interactive tables.';\n",
              "          element.innerHTML = '';\n",
              "          dataTable['output_type'] = 'display_data';\n",
              "          await google.colab.output.renderOutput(dataTable, element);\n",
              "          const docLink = document.createElement('div');\n",
              "          docLink.innerHTML = docLinkHtml;\n",
              "          element.appendChild(docLink);\n",
              "        }\n",
              "      </script>\n",
              "    </div>\n",
              "  </div>\n",
              "  "
            ]
          },
          "metadata": {},
          "execution_count": 17
        }
      ]
    },
    {
      "cell_type": "code",
      "source": [],
      "metadata": {
        "id": "ZA_K5RWccSYf"
      },
      "execution_count": null,
      "outputs": []
    }
  ]
}