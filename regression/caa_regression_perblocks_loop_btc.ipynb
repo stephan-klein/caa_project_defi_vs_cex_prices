{
 "cells": [
  {
   "attachments": {},
   "cell_type": "markdown",
   "metadata": {},
   "source": [
    "### Preparation\n",
    "\n",
    "and Time Window Selection"
   ]
  },
  {
   "cell_type": "code",
   "execution_count": 1,
   "metadata": {},
   "outputs": [],
   "source": [
    "import matplotlib.pyplot as plt\n",
    "import matplotlib.dates as mdates\n",
    "from sklearn.linear_model import LinearRegression\n",
    "from sklearn.svm import SVR\n",
    "from sklearn.neighbors import KNeighborsRegressor\n",
    "from sklearn.model_selection import train_test_split, cross_val_score, KFold\n",
    "from sklearn.metrics import mean_squared_error, r2_score\n",
    "from sklearn.preprocessing import MinMaxScaler, StandardScaler\n",
    "import numpy as np\n",
    "import pandas as pd\n",
    "from datetime import datetime, timedelta"
   ]
  },
  {
   "attachments": {},
   "cell_type": "markdown",
   "metadata": {},
   "source": [
    "### Linear Regression considering only effects of Price shocks\n",
    "\n",
    "- only consider close prices\n",
    "- filter the cex data for the 5% of highest candles (in both directions)\n",
    "- for those price shocks add the dex price 0-12 **blocks** after the CEX shock, which we are trying to predict\n",
    "- as benchmark we predict DEX Close price by its own DEX Price at the time of the shock, also lag 0 can be considered as benchmark\n",
    "- 80/20 Train/Test split"
   ]
  },
  {
   "cell_type": "code",
   "execution_count": 2,
   "metadata": {},
   "outputs": [],
   "source": [
    "nr_of_lags = 22\n",
    "\n",
    "def prepare(cex, dex):\n",
    "  df = cex.copy()\n",
    "  # Calculate the absolute difference between open and close prices for cex\n",
    "  df['shock_height'] = abs(df['open'] - df['close'])\n",
    "  df['price_diff'] = df['close'] - df['open']\n",
    "\n",
    "  # Calculate the 95th percentile of the absolute difference\n",
    "  threshold = np.percentile(df['shock_height'], 95)\n",
    "\n",
    "  # Filter rows where the absolute difference is greater than or equal to the threshold\n",
    "  df_shock = df[df['shock_height'] >= threshold]\n",
    "\n",
    "  # Drop the 'cex_candle' column as it's no longer needed\n",
    "  # df_shock = df_shock.drop(columns=['cex_candle'])\n",
    "\n",
    "  # Create a DataFrame to store the new dataset\n",
    "  df_new = pd.DataFrame(columns=['shock_timestamp', 'price_diff', 'close_cex'] + [f'lag_before{i}_dex' for i in range(5, 0, -1)] + [f'lag_after{i}_dex' for i in range(1, nr_of_lags)])\n",
    "\n",
    "  # For each row in the df_shock DataFrame\n",
    "  for row_num, (index, row) in enumerate(df_shock.iterrows()):\n",
    "      # If there are at least 6 blocks after the current index\n",
    "\n",
    "      corr_index = index + timedelta(minutes=1)\n",
    "      df_dex_before = dex.loc[:corr_index]\n",
    "      df_dex_after = dex.loc[corr_index:]\n",
    "\n",
    "      if len(df_dex_after) > nr_of_lags-1 and len(df_dex_before) > 4:\n",
    "          # Create a new row\n",
    "          new_row = {'shock_timestamp': index, 'price_diff': row['price_diff'], 'close_cex': row['close'],}\n",
    "          # For each lag from 1 to 12\n",
    "          for i in range(0, nr_of_lags):\n",
    "              # Add the lagged dex close price to the new row\n",
    "              if (i > 0 and i < 6):\n",
    "                new_row[f'lag_before{i}_dex'] = df_dex_before.iloc[i*-1]['price']\n",
    "              new_row[f'lag_after{i+1}_dex'] = df_dex_after.iloc[i]['price']\n",
    "          # Append the new row to the new DataFrame\n",
    "          df_new = pd.concat([df_new, pd.DataFrame([new_row])], ignore_index=True)\n",
    "\n",
    "\n",
    "  df_new = df_new.set_index('shock_timestamp')\n",
    "  return df_new"
   ]
  },
  {
   "attachments": {},
   "cell_type": "markdown",
   "metadata": {},
   "source": [
    "### Same with Cross Validation"
   ]
  },
  {
   "cell_type": "code",
   "execution_count": 3,
   "metadata": {},
   "outputs": [],
   "source": [
    "def regress(df_new):\n",
    "  df = df_new.copy()\n",
    "  # Define the models\n",
    "  models = [\n",
    "      ('Linear Regression', LinearRegression()),\n",
    "      # ('SVM', SVR()),\n",
    "      # ('KNN', KNeighborsRegressor())\n",
    "  ]\n",
    "\n",
    "  # Create a DataFrame to store the results\n",
    "  # results = pd.DataFrame(columns=['Model', 'Lag', 'Test RMSE', 'Test R2', 'Test RMSE Benchmark', 'Test R2 Benchmark'])\n",
    "  results = pd.DataFrame(columns=['Lag', 'Test RMSE', 'Test RMSE Benchmark'])\n",
    "  cv = KFold(n_splits=10, random_state=1, shuffle=True)\n",
    "\n",
    "  # For each number of lags\n",
    "  for l in range(1, nr_of_lags+1):\n",
    "\n",
    "    # For each model\n",
    "    for name, model in models:\n",
    "\n",
    "      # Train on cex to predict dex\n",
    "      X = df[['close_cex']]\n",
    "      y = df[f'lag_after{l}_dex']\n",
    "      rmse_scores = cross_val_score(model, X, y, scoring='neg_root_mean_squared_error', cv=cv, n_jobs=-1)\n",
    "      rmse_scores = -rmse_scores  # flip the sign to make MSE positive\n",
    "      # r2_scores = cross_val_score(model, X, y, scoring='r2', cv=cv, n_jobs=-1)\n",
    "\n",
    "      # Train on dex to predict dex\n",
    "      X_dex = df_new.iloc[:,(l+1):(l+5)]\n",
    "      y_dex = df[f'lag_after{l}_dex']\n",
    "      dex_rmse_scores = cross_val_score(model, X_dex, y_dex, scoring='neg_root_mean_squared_error', cv=cv, n_jobs=-1)\n",
    "      dex_rmse_scores = -dex_rmse_scores  # flip the sign to make MSE positive\n",
    "      # dex_r2_scores = cross_val_score(model, X_dex, y_dex, scoring='r2', cv=cv, n_jobs=-1)\n",
    "\n",
    "      # new_row = pd.DataFrame({'Model': [name], 'Lag': [l], 'Test RMSE': ['%.3f' % (np.mean(rmse_scores))],'Test R2': ['%.3f' % (np.mean(r2_scores))], 'Test RMSE Benchmark': ['%.3f' % (np.mean(dex_rmse_scores))],'Test R2 Benchmark': ['%.3f' % (np.mean(dex_r2_scores))]})\n",
    "      new_row = pd.DataFrame({'Lag': [l], 'Test RMSE': np.mean(rmse_scores),'Test RMSE Benchmark': np.mean(dex_rmse_scores)})\n",
    "      \n",
    "      results = pd.concat([results, new_row], ignore_index=True)\n",
    "\n",
    "  # Display the results\n",
    "  return results"
   ]
  },
  {
   "cell_type": "code",
   "execution_count": 4,
   "metadata": {},
   "outputs": [
    {
     "name": "stdout",
     "output_type": "stream",
     "text": [
      "Week ending on: 2022-01-02\n",
      "Skipping Week because of empty values\n",
      "Week ending on: 2022-01-09\n",
      "Week ending on: 2022-01-16\n",
      "Week ending on: 2022-01-23\n",
      "Week ending on: 2022-01-30\n",
      "Week ending on: 2022-02-06\n",
      "Week ending on: 2022-02-13\n",
      "Week ending on: 2022-02-20\n",
      "Week ending on: 2022-02-27\n",
      "Week ending on: 2022-03-06\n",
      "Week ending on: 2022-03-13\n",
      "Week ending on: 2022-03-20\n",
      "Week ending on: 2022-03-27\n",
      "Week ending on: 2022-04-03\n",
      "Week ending on: 2022-04-10\n",
      "Week ending on: 2022-04-17\n",
      "Week ending on: 2022-04-24\n",
      "Week ending on: 2022-05-01\n",
      "Week ending on: 2022-05-08\n",
      "Week ending on: 2022-05-15\n",
      "Week ending on: 2022-05-22\n",
      "Week ending on: 2022-05-29\n",
      "Week ending on: 2022-06-05\n",
      "Week ending on: 2022-06-12\n",
      "Week ending on: 2022-06-19\n",
      "Week ending on: 2022-06-26\n",
      "Week ending on: 2022-07-03\n",
      "Week ending on: 2022-07-10\n",
      "Week ending on: 2022-07-17\n",
      "Week ending on: 2022-07-24\n",
      "Week ending on: 2022-07-31\n",
      "Week ending on: 2022-08-07\n",
      "Week ending on: 2022-08-14\n",
      "Week ending on: 2022-08-21\n",
      "Week ending on: 2022-08-28\n",
      "Week ending on: 2022-09-04\n",
      "Week ending on: 2022-09-11\n",
      "Week ending on: 2022-09-18\n",
      "Week ending on: 2022-09-25\n",
      "Week ending on: 2022-10-02\n",
      "Week ending on: 2022-10-09\n",
      "Week ending on: 2022-10-16\n",
      "Week ending on: 2022-10-23\n",
      "Week ending on: 2022-10-30\n",
      "Week ending on: 2022-11-06\n",
      "Week ending on: 2022-11-13\n",
      "Week ending on: 2022-11-20\n",
      "Week ending on: 2022-11-27\n",
      "Week ending on: 2022-12-04\n",
      "Week ending on: 2022-12-11\n",
      "Week ending on: 2022-12-18\n",
      "Week ending on: 2022-12-25\n"
     ]
    },
    {
     "name": "stderr",
     "output_type": "stream",
     "text": [
      "/tmp/ipykernel_2348/3470696860.py:33: PerformanceWarning: DataFrame is highly fragmented.  This is usually the result of calling `frame.insert` many times, which has poor performance.  Consider joining all columns at once using pd.concat(axis=1) instead. To get a de-fragmented frame, use `newframe = frame.copy()`\n",
      "  results[f'RMSE {i}'] = result[f'Test RMSE']\n",
      "/tmp/ipykernel_2348/3470696860.py:34: PerformanceWarning: DataFrame is highly fragmented.  This is usually the result of calling `frame.insert` many times, which has poor performance.  Consider joining all columns at once using pd.concat(axis=1) instead. To get a de-fragmented frame, use `newframe = frame.copy()`\n",
      "  results[f'RMSE BM {i}'] = result[f'Test RMSE Benchmark']\n"
     ]
    },
    {
     "name": "stdout",
     "output_type": "stream",
     "text": [
      "Week ending on: 2023-01-01\n"
     ]
    },
    {
     "name": "stderr",
     "output_type": "stream",
     "text": [
      "/tmp/ipykernel_2348/3470696860.py:33: PerformanceWarning: DataFrame is highly fragmented.  This is usually the result of calling `frame.insert` many times, which has poor performance.  Consider joining all columns at once using pd.concat(axis=1) instead. To get a de-fragmented frame, use `newframe = frame.copy()`\n",
      "  results[f'RMSE {i}'] = result[f'Test RMSE']\n",
      "/tmp/ipykernel_2348/3470696860.py:34: PerformanceWarning: DataFrame is highly fragmented.  This is usually the result of calling `frame.insert` many times, which has poor performance.  Consider joining all columns at once using pd.concat(axis=1) instead. To get a de-fragmented frame, use `newframe = frame.copy()`\n",
      "  results[f'RMSE BM {i}'] = result[f'Test RMSE Benchmark']\n",
      "/tmp/ipykernel_2348/3470696860.py:44: PerformanceWarning: DataFrame is highly fragmented.  This is usually the result of calling `frame.insert` many times, which has poor performance.  Consider joining all columns at once using pd.concat(axis=1) instead. To get a de-fragmented frame, use `newframe = frame.copy()`\n",
      "  results.insert(0,'block_lag',results.index + 1)\n"
     ]
    },
    {
     "data": {
      "text/html": [
       "<div>\n",
       "<style scoped>\n",
       "    .dataframe tbody tr th:only-of-type {\n",
       "        vertical-align: middle;\n",
       "    }\n",
       "\n",
       "    .dataframe tbody tr th {\n",
       "        vertical-align: top;\n",
       "    }\n",
       "\n",
       "    .dataframe thead th {\n",
       "        text-align: right;\n",
       "    }\n",
       "</style>\n",
       "<table border=\"1\" class=\"dataframe\">\n",
       "  <thead>\n",
       "    <tr style=\"text-align: right;\">\n",
       "      <th></th>\n",
       "      <th>Week</th>\n",
       "      <th>best_lag</th>\n",
       "      <th>rsme</th>\n",
       "      <th>bmrsme</th>\n",
       "    </tr>\n",
       "  </thead>\n",
       "  <tbody>\n",
       "    <tr>\n",
       "      <th>0</th>\n",
       "      <td>2022-01-09</td>\n",
       "      <td>6</td>\n",
       "      <td>156.729773</td>\n",
       "      <td>35.681582</td>\n",
       "    </tr>\n",
       "    <tr>\n",
       "      <th>1</th>\n",
       "      <td>2022-01-16</td>\n",
       "      <td>18</td>\n",
       "      <td>153.348412</td>\n",
       "      <td>20.576163</td>\n",
       "    </tr>\n",
       "    <tr>\n",
       "      <th>2</th>\n",
       "      <td>2022-01-23</td>\n",
       "      <td>11</td>\n",
       "      <td>146.802014</td>\n",
       "      <td>55.900836</td>\n",
       "    </tr>\n",
       "    <tr>\n",
       "      <th>3</th>\n",
       "      <td>2022-01-30</td>\n",
       "      <td>11</td>\n",
       "      <td>152.030772</td>\n",
       "      <td>48.561306</td>\n",
       "    </tr>\n",
       "    <tr>\n",
       "      <th>4</th>\n",
       "      <td>2022-02-06</td>\n",
       "      <td>15</td>\n",
       "      <td>132.679941</td>\n",
       "      <td>16.315242</td>\n",
       "    </tr>\n",
       "    <tr>\n",
       "      <th>5</th>\n",
       "      <td>2022-02-13</td>\n",
       "      <td>14</td>\n",
       "      <td>124.451203</td>\n",
       "      <td>16.320806</td>\n",
       "    </tr>\n",
       "    <tr>\n",
       "      <th>6</th>\n",
       "      <td>2022-02-20</td>\n",
       "      <td>22</td>\n",
       "      <td>107.820866</td>\n",
       "      <td>18.501014</td>\n",
       "    </tr>\n",
       "    <tr>\n",
       "      <th>7</th>\n",
       "      <td>2022-02-27</td>\n",
       "      <td>4</td>\n",
       "      <td>128.817537</td>\n",
       "      <td>43.061648</td>\n",
       "    </tr>\n",
       "    <tr>\n",
       "      <th>8</th>\n",
       "      <td>2022-03-06</td>\n",
       "      <td>5</td>\n",
       "      <td>113.295254</td>\n",
       "      <td>36.363971</td>\n",
       "    </tr>\n",
       "    <tr>\n",
       "      <th>9</th>\n",
       "      <td>2022-03-13</td>\n",
       "      <td>5</td>\n",
       "      <td>103.693830</td>\n",
       "      <td>30.749265</td>\n",
       "    </tr>\n",
       "    <tr>\n",
       "      <th>10</th>\n",
       "      <td>2022-03-20</td>\n",
       "      <td>7</td>\n",
       "      <td>105.952703</td>\n",
       "      <td>25.579427</td>\n",
       "    </tr>\n",
       "    <tr>\n",
       "      <th>11</th>\n",
       "      <td>2022-03-27</td>\n",
       "      <td>6</td>\n",
       "      <td>100.429348</td>\n",
       "      <td>15.657357</td>\n",
       "    </tr>\n",
       "    <tr>\n",
       "      <th>12</th>\n",
       "      <td>2022-04-03</td>\n",
       "      <td>11</td>\n",
       "      <td>105.839203</td>\n",
       "      <td>17.815083</td>\n",
       "    </tr>\n",
       "    <tr>\n",
       "      <th>13</th>\n",
       "      <td>2022-04-10</td>\n",
       "      <td>5</td>\n",
       "      <td>108.858232</td>\n",
       "      <td>22.577187</td>\n",
       "    </tr>\n",
       "    <tr>\n",
       "      <th>14</th>\n",
       "      <td>2022-04-17</td>\n",
       "      <td>9</td>\n",
       "      <td>99.106243</td>\n",
       "      <td>19.261879</td>\n",
       "    </tr>\n",
       "    <tr>\n",
       "      <th>15</th>\n",
       "      <td>2022-04-24</td>\n",
       "      <td>9</td>\n",
       "      <td>101.148286</td>\n",
       "      <td>17.983132</td>\n",
       "    </tr>\n",
       "    <tr>\n",
       "      <th>16</th>\n",
       "      <td>2022-05-01</td>\n",
       "      <td>4</td>\n",
       "      <td>94.376234</td>\n",
       "      <td>25.158450</td>\n",
       "    </tr>\n",
       "    <tr>\n",
       "      <th>17</th>\n",
       "      <td>2022-05-08</td>\n",
       "      <td>10</td>\n",
       "      <td>108.998621</td>\n",
       "      <td>24.411527</td>\n",
       "    </tr>\n",
       "    <tr>\n",
       "      <th>18</th>\n",
       "      <td>2022-05-15</td>\n",
       "      <td>5</td>\n",
       "      <td>150.492128</td>\n",
       "      <td>85.517095</td>\n",
       "    </tr>\n",
       "    <tr>\n",
       "      <th>19</th>\n",
       "      <td>2022-05-22</td>\n",
       "      <td>13</td>\n",
       "      <td>67.658008</td>\n",
       "      <td>13.566710</td>\n",
       "    </tr>\n",
       "    <tr>\n",
       "      <th>20</th>\n",
       "      <td>2022-05-29</td>\n",
       "      <td>7</td>\n",
       "      <td>67.594711</td>\n",
       "      <td>16.206504</td>\n",
       "    </tr>\n",
       "    <tr>\n",
       "      <th>21</th>\n",
       "      <td>2022-06-05</td>\n",
       "      <td>7</td>\n",
       "      <td>73.391869</td>\n",
       "      <td>16.936571</td>\n",
       "    </tr>\n",
       "    <tr>\n",
       "      <th>22</th>\n",
       "      <td>2022-06-12</td>\n",
       "      <td>5</td>\n",
       "      <td>76.248972</td>\n",
       "      <td>23.705334</td>\n",
       "    </tr>\n",
       "    <tr>\n",
       "      <th>23</th>\n",
       "      <td>2022-06-19</td>\n",
       "      <td>3</td>\n",
       "      <td>97.629227</td>\n",
       "      <td>57.975090</td>\n",
       "    </tr>\n",
       "    <tr>\n",
       "      <th>24</th>\n",
       "      <td>2022-06-26</td>\n",
       "      <td>10</td>\n",
       "      <td>59.329401</td>\n",
       "      <td>17.726876</td>\n",
       "    </tr>\n",
       "    <tr>\n",
       "      <th>25</th>\n",
       "      <td>2022-07-03</td>\n",
       "      <td>10</td>\n",
       "      <td>80.942414</td>\n",
       "      <td>21.414757</td>\n",
       "    </tr>\n",
       "    <tr>\n",
       "      <th>26</th>\n",
       "      <td>2022-07-10</td>\n",
       "      <td>17</td>\n",
       "      <td>83.665925</td>\n",
       "      <td>7.746949</td>\n",
       "    </tr>\n",
       "    <tr>\n",
       "      <th>27</th>\n",
       "      <td>2022-07-17</td>\n",
       "      <td>19</td>\n",
       "      <td>95.157019</td>\n",
       "      <td>14.527655</td>\n",
       "    </tr>\n",
       "    <tr>\n",
       "      <th>28</th>\n",
       "      <td>2022-07-24</td>\n",
       "      <td>15</td>\n",
       "      <td>71.758592</td>\n",
       "      <td>12.525802</td>\n",
       "    </tr>\n",
       "    <tr>\n",
       "      <th>29</th>\n",
       "      <td>2022-07-31</td>\n",
       "      <td>4</td>\n",
       "      <td>72.742076</td>\n",
       "      <td>26.697837</td>\n",
       "    </tr>\n",
       "    <tr>\n",
       "      <th>30</th>\n",
       "      <td>2022-08-07</td>\n",
       "      <td>20</td>\n",
       "      <td>57.216505</td>\n",
       "      <td>9.588346</td>\n",
       "    </tr>\n",
       "    <tr>\n",
       "      <th>31</th>\n",
       "      <td>2022-08-14</td>\n",
       "      <td>15</td>\n",
       "      <td>68.233633</td>\n",
       "      <td>19.611626</td>\n",
       "    </tr>\n",
       "    <tr>\n",
       "      <th>32</th>\n",
       "      <td>2022-08-21</td>\n",
       "      <td>20</td>\n",
       "      <td>67.847711</td>\n",
       "      <td>6.418048</td>\n",
       "    </tr>\n",
       "    <tr>\n",
       "      <th>33</th>\n",
       "      <td>2022-08-28</td>\n",
       "      <td>17</td>\n",
       "      <td>62.450383</td>\n",
       "      <td>6.866470</td>\n",
       "    </tr>\n",
       "    <tr>\n",
       "      <th>34</th>\n",
       "      <td>2022-09-04</td>\n",
       "      <td>22</td>\n",
       "      <td>56.226643</td>\n",
       "      <td>9.387800</td>\n",
       "    </tr>\n",
       "    <tr>\n",
       "      <th>35</th>\n",
       "      <td>2022-09-11</td>\n",
       "      <td>14</td>\n",
       "      <td>55.332585</td>\n",
       "      <td>11.736739</td>\n",
       "    </tr>\n",
       "    <tr>\n",
       "      <th>36</th>\n",
       "      <td>2022-09-18</td>\n",
       "      <td>6</td>\n",
       "      <td>53.804248</td>\n",
       "      <td>18.019809</td>\n",
       "    </tr>\n",
       "    <tr>\n",
       "      <th>37</th>\n",
       "      <td>2022-09-25</td>\n",
       "      <td>3</td>\n",
       "      <td>53.042751</td>\n",
       "      <td>20.981810</td>\n",
       "    </tr>\n",
       "    <tr>\n",
       "      <th>38</th>\n",
       "      <td>2022-10-02</td>\n",
       "      <td>10</td>\n",
       "      <td>44.604560</td>\n",
       "      <td>11.836406</td>\n",
       "    </tr>\n",
       "    <tr>\n",
       "      <th>39</th>\n",
       "      <td>2022-10-09</td>\n",
       "      <td>18</td>\n",
       "      <td>46.466541</td>\n",
       "      <td>6.419642</td>\n",
       "    </tr>\n",
       "    <tr>\n",
       "      <th>40</th>\n",
       "      <td>2022-10-16</td>\n",
       "      <td>4</td>\n",
       "      <td>47.392501</td>\n",
       "      <td>12.216437</td>\n",
       "    </tr>\n",
       "    <tr>\n",
       "      <th>41</th>\n",
       "      <td>2022-10-23</td>\n",
       "      <td>22</td>\n",
       "      <td>41.890583</td>\n",
       "      <td>4.523105</td>\n",
       "    </tr>\n",
       "    <tr>\n",
       "      <th>42</th>\n",
       "      <td>2022-10-30</td>\n",
       "      <td>13</td>\n",
       "      <td>48.123606</td>\n",
       "      <td>9.593977</td>\n",
       "    </tr>\n",
       "    <tr>\n",
       "      <th>43</th>\n",
       "      <td>2022-11-06</td>\n",
       "      <td>17</td>\n",
       "      <td>46.949754</td>\n",
       "      <td>9.052045</td>\n",
       "    </tr>\n",
       "    <tr>\n",
       "      <th>44</th>\n",
       "      <td>2022-11-13</td>\n",
       "      <td>5</td>\n",
       "      <td>69.782130</td>\n",
       "      <td>38.675717</td>\n",
       "    </tr>\n",
       "    <tr>\n",
       "      <th>45</th>\n",
       "      <td>2022-11-20</td>\n",
       "      <td>6</td>\n",
       "      <td>49.404235</td>\n",
       "      <td>15.384451</td>\n",
       "    </tr>\n",
       "    <tr>\n",
       "      <th>46</th>\n",
       "      <td>2022-11-27</td>\n",
       "      <td>10</td>\n",
       "      <td>48.850202</td>\n",
       "      <td>9.598658</td>\n",
       "    </tr>\n",
       "    <tr>\n",
       "      <th>47</th>\n",
       "      <td>2022-12-04</td>\n",
       "      <td>13</td>\n",
       "      <td>44.490327</td>\n",
       "      <td>7.872057</td>\n",
       "    </tr>\n",
       "    <tr>\n",
       "      <th>48</th>\n",
       "      <td>2022-12-11</td>\n",
       "      <td>22</td>\n",
       "      <td>39.023990</td>\n",
       "      <td>1.558597</td>\n",
       "    </tr>\n",
       "    <tr>\n",
       "      <th>49</th>\n",
       "      <td>2022-12-18</td>\n",
       "      <td>3</td>\n",
       "      <td>45.275687</td>\n",
       "      <td>9.019674</td>\n",
       "    </tr>\n",
       "    <tr>\n",
       "      <th>50</th>\n",
       "      <td>2022-12-25</td>\n",
       "      <td>7</td>\n",
       "      <td>36.441911</td>\n",
       "      <td>7.298704</td>\n",
       "    </tr>\n",
       "    <tr>\n",
       "      <th>51</th>\n",
       "      <td>2023-01-01</td>\n",
       "      <td>22</td>\n",
       "      <td>35.091416</td>\n",
       "      <td>1.155877</td>\n",
       "    </tr>\n",
       "  </tbody>\n",
       "</table>\n",
       "</div>"
      ],
      "text/plain": [
       "          Week best_lag        rsme     bmrsme\n",
       "0   2022-01-09        6  156.729773  35.681582\n",
       "1   2022-01-16       18  153.348412  20.576163\n",
       "2   2022-01-23       11  146.802014  55.900836\n",
       "3   2022-01-30       11  152.030772  48.561306\n",
       "4   2022-02-06       15  132.679941  16.315242\n",
       "5   2022-02-13       14  124.451203  16.320806\n",
       "6   2022-02-20       22  107.820866  18.501014\n",
       "7   2022-02-27        4  128.817537  43.061648\n",
       "8   2022-03-06        5  113.295254  36.363971\n",
       "9   2022-03-13        5  103.693830  30.749265\n",
       "10  2022-03-20        7  105.952703  25.579427\n",
       "11  2022-03-27        6  100.429348  15.657357\n",
       "12  2022-04-03       11  105.839203  17.815083\n",
       "13  2022-04-10        5  108.858232  22.577187\n",
       "14  2022-04-17        9   99.106243  19.261879\n",
       "15  2022-04-24        9  101.148286  17.983132\n",
       "16  2022-05-01        4   94.376234  25.158450\n",
       "17  2022-05-08       10  108.998621  24.411527\n",
       "18  2022-05-15        5  150.492128  85.517095\n",
       "19  2022-05-22       13   67.658008  13.566710\n",
       "20  2022-05-29        7   67.594711  16.206504\n",
       "21  2022-06-05        7   73.391869  16.936571\n",
       "22  2022-06-12        5   76.248972  23.705334\n",
       "23  2022-06-19        3   97.629227  57.975090\n",
       "24  2022-06-26       10   59.329401  17.726876\n",
       "25  2022-07-03       10   80.942414  21.414757\n",
       "26  2022-07-10       17   83.665925   7.746949\n",
       "27  2022-07-17       19   95.157019  14.527655\n",
       "28  2022-07-24       15   71.758592  12.525802\n",
       "29  2022-07-31        4   72.742076  26.697837\n",
       "30  2022-08-07       20   57.216505   9.588346\n",
       "31  2022-08-14       15   68.233633  19.611626\n",
       "32  2022-08-21       20   67.847711   6.418048\n",
       "33  2022-08-28       17   62.450383   6.866470\n",
       "34  2022-09-04       22   56.226643   9.387800\n",
       "35  2022-09-11       14   55.332585  11.736739\n",
       "36  2022-09-18        6   53.804248  18.019809\n",
       "37  2022-09-25        3   53.042751  20.981810\n",
       "38  2022-10-02       10   44.604560  11.836406\n",
       "39  2022-10-09       18   46.466541   6.419642\n",
       "40  2022-10-16        4   47.392501  12.216437\n",
       "41  2022-10-23       22   41.890583   4.523105\n",
       "42  2022-10-30       13   48.123606   9.593977\n",
       "43  2022-11-06       17   46.949754   9.052045\n",
       "44  2022-11-13        5   69.782130  38.675717\n",
       "45  2022-11-20        6   49.404235  15.384451\n",
       "46  2022-11-27       10   48.850202   9.598658\n",
       "47  2022-12-04       13   44.490327   7.872057\n",
       "48  2022-12-11       22   39.023990   1.558597\n",
       "49  2022-12-18        3   45.275687   9.019674\n",
       "50  2022-12-25        7   36.441911   7.298704\n",
       "51  2023-01-01       22   35.091416   1.155877"
      ]
     },
     "metadata": {},
     "output_type": "display_data"
    }
   ],
   "source": [
    "# asset = \"UNI/USDT\"\n",
    "# dex = pd.read_pickle(\"../datasets/dex_UNI_USDC_2022_allblocks.pkl\")\n",
    "# cex = pd.read_pickle(\"../datasets/cex_UNI_USDT_2022.pkl\")\n",
    "asset = \"BTC/USDT\"\n",
    "dex = pd.read_pickle(\"../datasets/dex_WBTC_USDT_2022_allblocks.pkl\")\n",
    "cex = pd.read_pickle(\"../datasets/cex_BTC_USDT_2022.pkl\")\n",
    "# asset = \"ETH/USDT\"\n",
    "# dex = pd.read_pickle(\"datasets/dex_WETH_USDT_2022_allblocks.pkl\")\n",
    "# cex = pd.read_pickle(\"datasets/cex_ETH_USDT_2022.pkl\")\n",
    "# asset = \"SHIB/USDT\"\n",
    "# dex = pd.read_pickle(\"datasets/dex_SHIB_USDT_2022_allblocks.pkl\")\n",
    "# cex = pd.read_pickle(\"datasets/cex_SHIB_USDT_2022.pkl\")\n",
    "\n",
    "\n",
    "# This creates a dictionary of dataframes, where each key is the start date of the week\n",
    "cex_weekly = {str(week_start_date.date()): group for week_start_date, group in cex.groupby(pd.Grouper(freq='W'))}\n",
    "dex_weekly = {str(week_start_date.date()): group for week_start_date, group in dex.groupby(pd.Grouper(freq='W'))}\n",
    "results = pd.DataFrame()\n",
    "best_lags = pd.DataFrame(columns=['Week', 'best_lag', 'rsme', 'bmrsme'])\n",
    "i = 0\n",
    "\n",
    "for week_start_date, cex_df in cex_weekly.items():\n",
    "    print(f\"Week ending on: {week_start_date}\")\n",
    "\n",
    "    dex_df = dex_weekly[week_start_date]\n",
    "\n",
    "    if (dex_df['price'].isnull().any()):\n",
    "      print(f\"Skipping Week because of empty values\")\n",
    "    else:\n",
    "      df = prepare(cex_df,dex_df)\n",
    "      result = regress(df)\n",
    "\n",
    "      results[f'RMSE {i}'] = result[f'Test RMSE']\n",
    "      results[f'RMSE BM {i}'] = result[f'Test RMSE Benchmark']\n",
    "\n",
    "      best_index = result['Test RMSE'].idxmin()\n",
    "      new_row = pd.DataFrame([{'Week': week_start_date, 'best_lag': best_index + 1, 'rsme': result['Test RMSE'].iloc[best_index], 'bmrsme': result['Test RMSE Benchmark'].iloc[best_index]}])\n",
    "      best_lags = pd.concat([best_lags, new_row], ignore_index=True)\n",
    "\n",
    "    # if i>5:\n",
    "    #   break\n",
    "    i += 1\n",
    "\n",
    "results.insert(0,'block_lag',results.index + 1)\n",
    "\n",
    "display(best_lags)"
   ]
  },
  {
   "cell_type": "code",
   "execution_count": 5,
   "metadata": {},
   "outputs": [
    {
     "data": {
      "image/png": "[encoded data removed]",
      "text/plain": [
       "<Figure size 1200x600 with 2 Axes>"
      ]
     },
     "metadata": {},
     "output_type": "display_data"
    }
   ],
   "source": [
    "df = best_lags.copy()\n",
    "df['bench_diff_rsme'] = df['bmrsme'] - df['rsme']\n",
    "\n",
    "fig, ax1 = plt.subplots(figsize=(12, 6))\n",
    "\n",
    "# plot 'best_lag' on the first y-axis\n",
    "ax1.plot(df.index, df['best_lag'], color='tab:blue')\n",
    "ax1.set_ylabel('Best Lag (Nr of Blocks)', color='tab:blue', fontsize=16)\n",
    "ax1.tick_params(axis='y', labelcolor='tab:blue')\n",
    "ax1.set_xlabel('Week of 2022', fontsize=16) \n",
    "\n",
    "for x in df.index:\n",
    "    ax1.axvline(x, color='gray', linestyle='--', linewidth=0.5)\n",
    "\n",
    "# instantiate a second y-axis that shares the same x-axis\n",
    "ax2 = ax1.twinx()\n",
    "\n",
    "# plot 'bench_diff_rsme' on the second y-axis\n",
    "ax2.plot(df.index, df['bench_diff_rsme'], color='tab:green')\n",
    "ax2.set_ylabel('Diff RMSE (Benchmark - Hypothesis)', color='tab:green', fontsize=16)\n",
    "ax2.tick_params(axis='y', labelcolor='tab:green')\n",
    "ax2.axhline(0, color='green')\n",
    "\n",
    "ax1.set_title(asset, fontsize=20)\n",
    "\n",
    "fig.tight_layout()  # ensure right y-label is not clipped\n",
    "plt.show()"
   ]
  },
  {
   "cell_type": "code",
   "execution_count": 33,
   "metadata": {},
   "outputs": [
    {
     "data": {
      "image/png": "[encoded data removed]",
      "text/plain": [
       "<Figure size 640x480 with 1 Axes>"
      ]
     },
     "metadata": {},
     "output_type": "display_data"
    }
   ],
   "source": [
    "part = results.copy()\n",
    "\n",
    "plt.plot(part['block_lag'], part['RMSE 30']*-1, label='Neg. RMSE Hypothesis Prediction')\n",
    "plt.plot(part['block_lag'], part['RMSE BM 30']*-1, label='Neg. RMSE Benchmark Prediction')\n",
    "\n",
    "# To have a grid in your plot\n",
    "plt.grid(True)\n",
    "\n",
    "# Labeling the axes\n",
    "plt.xlabel('Block Lag for DEX Price')\n",
    "plt.ylabel('Neg. RMSE Results')\n",
    "\n",
    "# Adding the legend\n",
    "plt.legend()\n",
    "plt.title('Linear Regression from CEX Price Shock to lagging DEX Price (Week 30 of 2022) '+asset)\n",
    "\n",
    "# Displaying the plot\n",
    "plt.show()"
   ]
  },
  {
   "cell_type": "code",
   "execution_count": 25,
   "metadata": {},
   "outputs": [
    {
     "data": {
      "text/html": [
       "<div>\n",
       "<style scoped>\n",
       "    .dataframe tbody tr th:only-of-type {\n",
       "        vertical-align: middle;\n",
       "    }\n",
       "\n",
       "    .dataframe tbody tr th {\n",
       "        vertical-align: top;\n",
       "    }\n",
       "\n",
       "    .dataframe thead th {\n",
       "        text-align: right;\n",
       "    }\n",
       "</style>\n",
       "<table border=\"1\" class=\"dataframe\">\n",
       "  <thead>\n",
       "    <tr style=\"text-align: right;\">\n",
       "      <th></th>\n",
       "      <th>block_lag</th>\n",
       "      <th>RMSE 0</th>\n",
       "      <th>RMSE BM 0</th>\n",
       "      <th>RMSE 1</th>\n",
       "      <th>RMSE BM 1</th>\n",
       "      <th>RMSE 2</th>\n",
       "      <th>RMSE BM 2</th>\n",
       "      <th>RMSE 3</th>\n",
       "      <th>RMSE BM 3</th>\n",
       "      <th>RMSE 4</th>\n",
       "      <th>...</th>\n",
       "      <th>RMSE 48</th>\n",
       "      <th>RMSE BM 48</th>\n",
       "      <th>RMSE 49</th>\n",
       "      <th>RMSE BM 49</th>\n",
       "      <th>RMSE 50</th>\n",
       "      <th>RMSE BM 50</th>\n",
       "      <th>RMSE 51</th>\n",
       "      <th>RMSE BM 51</th>\n",
       "      <th>RMSE 52</th>\n",
       "      <th>RMSE BM 52</th>\n",
       "    </tr>\n",
       "  </thead>\n",
       "  <tbody>\n",
       "    <tr>\n",
       "      <th>0</th>\n",
       "      <td>1</td>\n",
       "      <td>4.743813</td>\n",
       "      <td>5.221163</td>\n",
       "      <td>7.757300</td>\n",
       "      <td>8.874588</td>\n",
       "      <td>5.872431</td>\n",
       "      <td>5.905305</td>\n",
       "      <td>7.217321</td>\n",
       "      <td>8.876744</td>\n",
       "      <td>5.920057</td>\n",
       "      <td>...</td>\n",
       "      <td>0.820851</td>\n",
       "      <td>1.279722</td>\n",
       "      <td>0.866066</td>\n",
       "      <td>1.029244</td>\n",
       "      <td>1.333492</td>\n",
       "      <td>1.944549</td>\n",
       "      <td>0.871812</td>\n",
       "      <td>1.398549</td>\n",
       "      <td>0.607451</td>\n",
       "      <td>0.706456</td>\n",
       "    </tr>\n",
       "    <tr>\n",
       "      <th>1</th>\n",
       "      <td>2</td>\n",
       "      <td>4.625568</td>\n",
       "      <td>2.966975</td>\n",
       "      <td>6.720233</td>\n",
       "      <td>6.319868</td>\n",
       "      <td>5.866499</td>\n",
       "      <td>4.742484</td>\n",
       "      <td>7.173492</td>\n",
       "      <td>6.905434</td>\n",
       "      <td>6.013209</td>\n",
       "      <td>...</td>\n",
       "      <td>1.124492</td>\n",
       "      <td>1.238753</td>\n",
       "      <td>0.854318</td>\n",
       "      <td>0.874288</td>\n",
       "      <td>1.335917</td>\n",
       "      <td>1.557888</td>\n",
       "      <td>1.124159</td>\n",
       "      <td>1.243258</td>\n",
       "      <td>0.667485</td>\n",
       "      <td>0.678924</td>\n",
       "    </tr>\n",
       "    <tr>\n",
       "      <th>2</th>\n",
       "      <td>3</td>\n",
       "      <td>4.306097</td>\n",
       "      <td>2.929369</td>\n",
       "      <td>7.800872</td>\n",
       "      <td>7.157422</td>\n",
       "      <td>5.727276</td>\n",
       "      <td>4.319437</td>\n",
       "      <td>7.321790</td>\n",
       "      <td>6.630072</td>\n",
       "      <td>6.538429</td>\n",
       "      <td>...</td>\n",
       "      <td>1.363359</td>\n",
       "      <td>1.294186</td>\n",
       "      <td>0.983726</td>\n",
       "      <td>0.847260</td>\n",
       "      <td>1.883724</td>\n",
       "      <td>1.450681</td>\n",
       "      <td>1.265297</td>\n",
       "      <td>1.096765</td>\n",
       "      <td>0.718292</td>\n",
       "      <td>0.572802</td>\n",
       "    </tr>\n",
       "    <tr>\n",
       "      <th>3</th>\n",
       "      <td>4</td>\n",
       "      <td>4.323026</td>\n",
       "      <td>3.000492</td>\n",
       "      <td>8.376181</td>\n",
       "      <td>6.281461</td>\n",
       "      <td>5.891530</td>\n",
       "      <td>4.199526</td>\n",
       "      <td>7.995810</td>\n",
       "      <td>7.000669</td>\n",
       "      <td>6.744183</td>\n",
       "      <td>...</td>\n",
       "      <td>1.641199</td>\n",
       "      <td>1.327497</td>\n",
       "      <td>1.053259</td>\n",
       "      <td>0.746496</td>\n",
       "      <td>2.040398</td>\n",
       "      <td>1.282398</td>\n",
       "      <td>1.449612</td>\n",
       "      <td>0.813722</td>\n",
       "      <td>0.725018</td>\n",
       "      <td>0.496831</td>\n",
       "    </tr>\n",
       "    <tr>\n",
       "      <th>4</th>\n",
       "      <td>5</td>\n",
       "      <td>4.386401</td>\n",
       "      <td>2.075489</td>\n",
       "      <td>8.121543</td>\n",
       "      <td>5.427789</td>\n",
       "      <td>6.030166</td>\n",
       "      <td>3.972709</td>\n",
       "      <td>8.787020</td>\n",
       "      <td>6.267871</td>\n",
       "      <td>7.039027</td>\n",
       "      <td>...</td>\n",
       "      <td>1.708058</td>\n",
       "      <td>0.920557</td>\n",
       "      <td>1.048359</td>\n",
       "      <td>0.569480</td>\n",
       "      <td>2.273852</td>\n",
       "      <td>1.427956</td>\n",
       "      <td>1.392142</td>\n",
       "      <td>0.737862</td>\n",
       "      <td>0.790770</td>\n",
       "      <td>0.359398</td>\n",
       "    </tr>\n",
       "    <tr>\n",
       "      <th>5</th>\n",
       "      <td>6</td>\n",
       "      <td>4.469013</td>\n",
       "      <td>2.073050</td>\n",
       "      <td>8.734700</td>\n",
       "      <td>6.773119</td>\n",
       "      <td>6.197830</td>\n",
       "      <td>4.183674</td>\n",
       "      <td>9.110517</td>\n",
       "      <td>6.302228</td>\n",
       "      <td>7.451104</td>\n",
       "      <td>...</td>\n",
       "      <td>1.951858</td>\n",
       "      <td>0.943822</td>\n",
       "      <td>1.059002</td>\n",
       "      <td>0.640837</td>\n",
       "      <td>2.441956</td>\n",
       "      <td>1.346697</td>\n",
       "      <td>1.518269</td>\n",
       "      <td>0.788549</td>\n",
       "      <td>0.789094</td>\n",
       "      <td>0.388146</td>\n",
       "    </tr>\n",
       "    <tr>\n",
       "      <th>6</th>\n",
       "      <td>7</td>\n",
       "      <td>4.281010</td>\n",
       "      <td>2.370171</td>\n",
       "      <td>8.832233</td>\n",
       "      <td>6.740366</td>\n",
       "      <td>6.428556</td>\n",
       "      <td>4.181605</td>\n",
       "      <td>9.340992</td>\n",
       "      <td>6.066344</td>\n",
       "      <td>7.843188</td>\n",
       "      <td>...</td>\n",
       "      <td>2.016434</td>\n",
       "      <td>0.973669</td>\n",
       "      <td>1.233593</td>\n",
       "      <td>0.722580</td>\n",
       "      <td>2.629014</td>\n",
       "      <td>1.159087</td>\n",
       "      <td>1.597787</td>\n",
       "      <td>0.675740</td>\n",
       "      <td>0.809554</td>\n",
       "      <td>0.432303</td>\n",
       "    </tr>\n",
       "    <tr>\n",
       "      <th>7</th>\n",
       "      <td>8</td>\n",
       "      <td>4.505488</td>\n",
       "      <td>2.317474</td>\n",
       "      <td>9.372954</td>\n",
       "      <td>6.493075</td>\n",
       "      <td>6.540232</td>\n",
       "      <td>3.648095</td>\n",
       "      <td>10.305049</td>\n",
       "      <td>5.920176</td>\n",
       "      <td>8.281086</td>\n",
       "      <td>...</td>\n",
       "      <td>2.117975</td>\n",
       "      <td>0.930359</td>\n",
       "      <td>1.407659</td>\n",
       "      <td>0.840451</td>\n",
       "      <td>2.737107</td>\n",
       "      <td>1.223317</td>\n",
       "      <td>1.680952</td>\n",
       "      <td>0.650845</td>\n",
       "      <td>0.833511</td>\n",
       "      <td>0.423053</td>\n",
       "    </tr>\n",
       "    <tr>\n",
       "      <th>8</th>\n",
       "      <td>9</td>\n",
       "      <td>4.857653</td>\n",
       "      <td>2.587304</td>\n",
       "      <td>9.469230</td>\n",
       "      <td>5.262462</td>\n",
       "      <td>7.116004</td>\n",
       "      <td>3.871787</td>\n",
       "      <td>10.494076</td>\n",
       "      <td>6.383079</td>\n",
       "      <td>8.671356</td>\n",
       "      <td>...</td>\n",
       "      <td>2.324449</td>\n",
       "      <td>1.047924</td>\n",
       "      <td>1.450029</td>\n",
       "      <td>0.706238</td>\n",
       "      <td>2.924388</td>\n",
       "      <td>1.327156</td>\n",
       "      <td>1.752260</td>\n",
       "      <td>0.621890</td>\n",
       "      <td>0.863074</td>\n",
       "      <td>0.331759</td>\n",
       "    </tr>\n",
       "    <tr>\n",
       "      <th>9</th>\n",
       "      <td>10</td>\n",
       "      <td>4.681817</td>\n",
       "      <td>2.222521</td>\n",
       "      <td>9.937573</td>\n",
       "      <td>6.128590</td>\n",
       "      <td>7.321499</td>\n",
       "      <td>3.986862</td>\n",
       "      <td>10.313890</td>\n",
       "      <td>6.413624</td>\n",
       "      <td>8.930530</td>\n",
       "      <td>...</td>\n",
       "      <td>2.384621</td>\n",
       "      <td>0.791821</td>\n",
       "      <td>1.569716</td>\n",
       "      <td>0.701059</td>\n",
       "      <td>2.866944</td>\n",
       "      <td>1.173877</td>\n",
       "      <td>1.712854</td>\n",
       "      <td>0.498825</td>\n",
       "      <td>0.849330</td>\n",
       "      <td>0.271425</td>\n",
       "    </tr>\n",
       "    <tr>\n",
       "      <th>10</th>\n",
       "      <td>11</td>\n",
       "      <td>4.905053</td>\n",
       "      <td>2.468442</td>\n",
       "      <td>10.638769</td>\n",
       "      <td>5.801601</td>\n",
       "      <td>7.405855</td>\n",
       "      <td>4.300371</td>\n",
       "      <td>11.053201</td>\n",
       "      <td>5.777990</td>\n",
       "      <td>9.679674</td>\n",
       "      <td>...</td>\n",
       "      <td>2.490606</td>\n",
       "      <td>0.896016</td>\n",
       "      <td>1.522008</td>\n",
       "      <td>0.664429</td>\n",
       "      <td>3.228301</td>\n",
       "      <td>1.041489</td>\n",
       "      <td>1.754227</td>\n",
       "      <td>0.579735</td>\n",
       "      <td>0.872097</td>\n",
       "      <td>0.296568</td>\n",
       "    </tr>\n",
       "    <tr>\n",
       "      <th>11</th>\n",
       "      <td>12</td>\n",
       "      <td>4.854354</td>\n",
       "      <td>2.215392</td>\n",
       "      <td>11.067630</td>\n",
       "      <td>5.237721</td>\n",
       "      <td>7.833828</td>\n",
       "      <td>4.191833</td>\n",
       "      <td>11.880946</td>\n",
       "      <td>6.077173</td>\n",
       "      <td>10.099052</td>\n",
       "      <td>...</td>\n",
       "      <td>2.523682</td>\n",
       "      <td>0.920680</td>\n",
       "      <td>1.653981</td>\n",
       "      <td>0.716604</td>\n",
       "      <td>3.146828</td>\n",
       "      <td>1.194978</td>\n",
       "      <td>1.746554</td>\n",
       "      <td>0.565546</td>\n",
       "      <td>0.974148</td>\n",
       "      <td>0.475761</td>\n",
       "    </tr>\n",
       "    <tr>\n",
       "      <th>12</th>\n",
       "      <td>13</td>\n",
       "      <td>5.054472</td>\n",
       "      <td>2.236740</td>\n",
       "      <td>11.272086</td>\n",
       "      <td>5.408303</td>\n",
       "      <td>8.271020</td>\n",
       "      <td>3.862936</td>\n",
       "      <td>12.445666</td>\n",
       "      <td>7.014570</td>\n",
       "      <td>10.287260</td>\n",
       "      <td>...</td>\n",
       "      <td>2.604502</td>\n",
       "      <td>0.940771</td>\n",
       "      <td>1.702044</td>\n",
       "      <td>0.689830</td>\n",
       "      <td>3.405896</td>\n",
       "      <td>1.411703</td>\n",
       "      <td>1.835532</td>\n",
       "      <td>0.544829</td>\n",
       "      <td>1.058125</td>\n",
       "      <td>0.501180</td>\n",
       "    </tr>\n",
       "    <tr>\n",
       "      <th>13</th>\n",
       "      <td>14</td>\n",
       "      <td>5.037803</td>\n",
       "      <td>1.832252</td>\n",
       "      <td>11.026174</td>\n",
       "      <td>5.862701</td>\n",
       "      <td>8.480493</td>\n",
       "      <td>4.051753</td>\n",
       "      <td>12.440088</td>\n",
       "      <td>6.660567</td>\n",
       "      <td>10.438662</td>\n",
       "      <td>...</td>\n",
       "      <td>2.704160</td>\n",
       "      <td>1.050277</td>\n",
       "      <td>1.796748</td>\n",
       "      <td>0.617766</td>\n",
       "      <td>3.493935</td>\n",
       "      <td>1.296736</td>\n",
       "      <td>1.943742</td>\n",
       "      <td>0.553209</td>\n",
       "      <td>1.082954</td>\n",
       "      <td>0.452854</td>\n",
       "    </tr>\n",
       "    <tr>\n",
       "      <th>14</th>\n",
       "      <td>15</td>\n",
       "      <td>5.636200</td>\n",
       "      <td>3.066066</td>\n",
       "      <td>10.829589</td>\n",
       "      <td>6.044757</td>\n",
       "      <td>8.783041</td>\n",
       "      <td>3.969819</td>\n",
       "      <td>12.762521</td>\n",
       "      <td>7.327404</td>\n",
       "      <td>10.818086</td>\n",
       "      <td>...</td>\n",
       "      <td>2.810512</td>\n",
       "      <td>0.839734</td>\n",
       "      <td>1.816680</td>\n",
       "      <td>0.565804</td>\n",
       "      <td>3.746004</td>\n",
       "      <td>1.149048</td>\n",
       "      <td>1.970764</td>\n",
       "      <td>0.479632</td>\n",
       "      <td>1.155414</td>\n",
       "      <td>0.311088</td>\n",
       "    </tr>\n",
       "    <tr>\n",
       "      <th>15</th>\n",
       "      <td>16</td>\n",
       "      <td>5.530952</td>\n",
       "      <td>2.305803</td>\n",
       "      <td>11.783204</td>\n",
       "      <td>5.725263</td>\n",
       "      <td>8.855046</td>\n",
       "      <td>4.042100</td>\n",
       "      <td>13.529932</td>\n",
       "      <td>6.125480</td>\n",
       "      <td>11.883275</td>\n",
       "      <td>...</td>\n",
       "      <td>2.942889</td>\n",
       "      <td>0.901292</td>\n",
       "      <td>1.845100</td>\n",
       "      <td>0.670430</td>\n",
       "      <td>3.758832</td>\n",
       "      <td>1.211984</td>\n",
       "      <td>2.072235</td>\n",
       "      <td>0.521335</td>\n",
       "      <td>1.179771</td>\n",
       "      <td>0.400430</td>\n",
       "    </tr>\n",
       "    <tr>\n",
       "      <th>16</th>\n",
       "      <td>17</td>\n",
       "      <td>5.798180</td>\n",
       "      <td>2.341242</td>\n",
       "      <td>12.387949</td>\n",
       "      <td>5.528455</td>\n",
       "      <td>8.813605</td>\n",
       "      <td>3.465150</td>\n",
       "      <td>14.236134</td>\n",
       "      <td>7.469878</td>\n",
       "      <td>11.792364</td>\n",
       "      <td>...</td>\n",
       "      <td>2.964171</td>\n",
       "      <td>0.944720</td>\n",
       "      <td>1.906539</td>\n",
       "      <td>0.672510</td>\n",
       "      <td>3.880427</td>\n",
       "      <td>1.038625</td>\n",
       "      <td>2.042003</td>\n",
       "      <td>0.558068</td>\n",
       "      <td>1.200404</td>\n",
       "      <td>0.435888</td>\n",
       "    </tr>\n",
       "    <tr>\n",
       "      <th>17</th>\n",
       "      <td>18</td>\n",
       "      <td>5.906417</td>\n",
       "      <td>2.552023</td>\n",
       "      <td>12.791022</td>\n",
       "      <td>5.082898</td>\n",
       "      <td>8.847174</td>\n",
       "      <td>3.234251</td>\n",
       "      <td>14.017267</td>\n",
       "      <td>5.765247</td>\n",
       "      <td>12.323857</td>\n",
       "      <td>...</td>\n",
       "      <td>3.035767</td>\n",
       "      <td>0.879347</td>\n",
       "      <td>1.961598</td>\n",
       "      <td>0.612754</td>\n",
       "      <td>4.310347</td>\n",
       "      <td>1.536109</td>\n",
       "      <td>2.095950</td>\n",
       "      <td>0.566946</td>\n",
       "      <td>1.312255</td>\n",
       "      <td>0.507913</td>\n",
       "    </tr>\n",
       "    <tr>\n",
       "      <th>18</th>\n",
       "      <td>19</td>\n",
       "      <td>6.136768</td>\n",
       "      <td>2.736817</td>\n",
       "      <td>12.834640</td>\n",
       "      <td>4.737927</td>\n",
       "      <td>9.095944</td>\n",
       "      <td>3.599301</td>\n",
       "      <td>14.357509</td>\n",
       "      <td>6.222898</td>\n",
       "      <td>12.615831</td>\n",
       "      <td>...</td>\n",
       "      <td>3.144270</td>\n",
       "      <td>0.940538</td>\n",
       "      <td>2.042273</td>\n",
       "      <td>0.652877</td>\n",
       "      <td>4.221047</td>\n",
       "      <td>1.200380</td>\n",
       "      <td>2.118609</td>\n",
       "      <td>0.478690</td>\n",
       "      <td>1.341523</td>\n",
       "      <td>0.470762</td>\n",
       "    </tr>\n",
       "    <tr>\n",
       "      <th>19</th>\n",
       "      <td>20</td>\n",
       "      <td>6.044939</td>\n",
       "      <td>2.434661</td>\n",
       "      <td>12.662433</td>\n",
       "      <td>4.571613</td>\n",
       "      <td>9.379337</td>\n",
       "      <td>3.894562</td>\n",
       "      <td>14.379352</td>\n",
       "      <td>5.988914</td>\n",
       "      <td>13.115657</td>\n",
       "      <td>...</td>\n",
       "      <td>3.166704</td>\n",
       "      <td>0.773422</td>\n",
       "      <td>2.213196</td>\n",
       "      <td>0.779031</td>\n",
       "      <td>4.617766</td>\n",
       "      <td>1.220831</td>\n",
       "      <td>2.141853</td>\n",
       "      <td>0.480514</td>\n",
       "      <td>1.383420</td>\n",
       "      <td>0.325285</td>\n",
       "    </tr>\n",
       "    <tr>\n",
       "      <th>20</th>\n",
       "      <td>21</td>\n",
       "      <td>5.951237</td>\n",
       "      <td>1.857985</td>\n",
       "      <td>13.368659</td>\n",
       "      <td>4.437984</td>\n",
       "      <td>9.214976</td>\n",
       "      <td>3.319509</td>\n",
       "      <td>15.078295</td>\n",
       "      <td>5.747815</td>\n",
       "      <td>13.310784</td>\n",
       "      <td>...</td>\n",
       "      <td>3.330161</td>\n",
       "      <td>0.812139</td>\n",
       "      <td>2.213761</td>\n",
       "      <td>0.611644</td>\n",
       "      <td>4.684285</td>\n",
       "      <td>1.115282</td>\n",
       "      <td>2.175949</td>\n",
       "      <td>0.509431</td>\n",
       "      <td>1.385763</td>\n",
       "      <td>0.370589</td>\n",
       "    </tr>\n",
       "    <tr>\n",
       "      <th>21</th>\n",
       "      <td>22</td>\n",
       "      <td>6.119357</td>\n",
       "      <td>3.019106</td>\n",
       "      <td>13.459214</td>\n",
       "      <td>4.511870</td>\n",
       "      <td>9.402581</td>\n",
       "      <td>3.397285</td>\n",
       "      <td>15.329975</td>\n",
       "      <td>6.057025</td>\n",
       "      <td>13.722436</td>\n",
       "      <td>...</td>\n",
       "      <td>3.300724</td>\n",
       "      <td>0.842158</td>\n",
       "      <td>2.322445</td>\n",
       "      <td>0.573120</td>\n",
       "      <td>4.777107</td>\n",
       "      <td>1.048029</td>\n",
       "      <td>2.202256</td>\n",
       "      <td>0.546834</td>\n",
       "      <td>1.420912</td>\n",
       "      <td>0.459040</td>\n",
       "    </tr>\n",
       "  </tbody>\n",
       "</table>\n",
       "<p>22 rows × 107 columns</p>\n",
       "</div>"
      ],
      "text/plain": [
       "    block_lag    RMSE 0  RMSE BM 0     RMSE 1  RMSE BM 1    RMSE 2  RMSE BM 2  \\\n",
       "0           1  4.743813   5.221163   7.757300   8.874588  5.872431   5.905305   \n",
       "1           2  4.625568   2.966975   6.720233   6.319868  5.866499   4.742484   \n",
       "2           3  4.306097   2.929369   7.800872   7.157422  5.727276   4.319437   \n",
       "3           4  4.323026   3.000492   8.376181   6.281461  5.891530   4.199526   \n",
       "4           5  4.386401   2.075489   8.121543   5.427789  6.030166   3.972709   \n",
       "5           6  4.469013   2.073050   8.734700   6.773119  6.197830   4.183674   \n",
       "6           7  4.281010   2.370171   8.832233   6.740366  6.428556   4.181605   \n",
       "7           8  4.505488   2.317474   9.372954   6.493075  6.540232   3.648095   \n",
       "8           9  4.857653   2.587304   9.469230   5.262462  7.116004   3.871787   \n",
       "9          10  4.681817   2.222521   9.937573   6.128590  7.321499   3.986862   \n",
       "10         11  4.905053   2.468442  10.638769   5.801601  7.405855   4.300371   \n",
       "11         12  4.854354   2.215392  11.067630   5.237721  7.833828   4.191833   \n",
       "12         13  5.054472   2.236740  11.272086   5.408303  8.271020   3.862936   \n",
       "13         14  5.037803   1.832252  11.026174   5.862701  8.480493   4.051753   \n",
       "14         15  5.636200   3.066066  10.829589   6.044757  8.783041   3.969819   \n",
       "15         16  5.530952   2.305803  11.783204   5.725263  8.855046   4.042100   \n",
       "16         17  5.798180   2.341242  12.387949   5.528455  8.813605   3.465150   \n",
       "17         18  5.906417   2.552023  12.791022   5.082898  8.847174   3.234251   \n",
       "18         19  6.136768   2.736817  12.834640   4.737927  9.095944   3.599301   \n",
       "19         20  6.044939   2.434661  12.662433   4.571613  9.379337   3.894562   \n",
       "20         21  5.951237   1.857985  13.368659   4.437984  9.214976   3.319509   \n",
       "21         22  6.119357   3.019106  13.459214   4.511870  9.402581   3.397285   \n",
       "\n",
       "       RMSE 3  RMSE BM 3     RMSE 4  ...   RMSE 48  RMSE BM 48   RMSE 49  \\\n",
       "0    7.217321   8.876744   5.920057  ...  0.820851    1.279722  0.866066   \n",
       "1    7.173492   6.905434   6.013209  ...  1.124492    1.238753  0.854318   \n",
       "2    7.321790   6.630072   6.538429  ...  1.363359    1.294186  0.983726   \n",
       "3    7.995810   7.000669   6.744183  ...  1.641199    1.327497  1.053259   \n",
       "4    8.787020   6.267871   7.039027  ...  1.708058    0.920557  1.048359   \n",
       "5    9.110517   6.302228   7.451104  ...  1.951858    0.943822  1.059002   \n",
       "6    9.340992   6.066344   7.843188  ...  2.016434    0.973669  1.233593   \n",
       "7   10.305049   5.920176   8.281086  ...  2.117975    0.930359  1.407659   \n",
       "8   10.494076   6.383079   8.671356  ...  2.324449    1.047924  1.450029   \n",
       "9   10.313890   6.413624   8.930530  ...  2.384621    0.791821  1.569716   \n",
       "10  11.053201   5.777990   9.679674  ...  2.490606    0.896016  1.522008   \n",
       "11  11.880946   6.077173  10.099052  ...  2.523682    0.920680  1.653981   \n",
       "12  12.445666   7.014570  10.287260  ...  2.604502    0.940771  1.702044   \n",
       "13  12.440088   6.660567  10.438662  ...  2.704160    1.050277  1.796748   \n",
       "14  12.762521   7.327404  10.818086  ...  2.810512    0.839734  1.816680   \n",
       "15  13.529932   6.125480  11.883275  ...  2.942889    0.901292  1.845100   \n",
       "16  14.236134   7.469878  11.792364  ...  2.964171    0.944720  1.906539   \n",
       "17  14.017267   5.765247  12.323857  ...  3.035767    0.879347  1.961598   \n",
       "18  14.357509   6.222898  12.615831  ...  3.144270    0.940538  2.042273   \n",
       "19  14.379352   5.988914  13.115657  ...  3.166704    0.773422  2.213196   \n",
       "20  15.078295   5.747815  13.310784  ...  3.330161    0.812139  2.213761   \n",
       "21  15.329975   6.057025  13.722436  ...  3.300724    0.842158  2.322445   \n",
       "\n",
       "    RMSE BM 49   RMSE 50  RMSE BM 50   RMSE 51  RMSE BM 51   RMSE 52  \\\n",
       "0     1.029244  1.333492    1.944549  0.871812    1.398549  0.607451   \n",
       "1     0.874288  1.335917    1.557888  1.124159    1.243258  0.667485   \n",
       "2     0.847260  1.883724    1.450681  1.265297    1.096765  0.718292   \n",
       "3     0.746496  2.040398    1.282398  1.449612    0.813722  0.725018   \n",
       "4     0.569480  2.273852    1.427956  1.392142    0.737862  0.790770   \n",
       "5     0.640837  2.441956    1.346697  1.518269    0.788549  0.789094   \n",
       "6     0.722580  2.629014    1.159087  1.597787    0.675740  0.809554   \n",
       "7     0.840451  2.737107    1.223317  1.680952    0.650845  0.833511   \n",
       "8     0.706238  2.924388    1.327156  1.752260    0.621890  0.863074   \n",
       "9     0.701059  2.866944    1.173877  1.712854    0.498825  0.849330   \n",
       "10    0.664429  3.228301    1.041489  1.754227    0.579735  0.872097   \n",
       "11    0.716604  3.146828    1.194978  1.746554    0.565546  0.974148   \n",
       "12    0.689830  3.405896    1.411703  1.835532    0.544829  1.058125   \n",
       "13    0.617766  3.493935    1.296736  1.943742    0.553209  1.082954   \n",
       "14    0.565804  3.746004    1.149048  1.970764    0.479632  1.155414   \n",
       "15    0.670430  3.758832    1.211984  2.072235    0.521335  1.179771   \n",
       "16    0.672510  3.880427    1.038625  2.042003    0.558068  1.200404   \n",
       "17    0.612754  4.310347    1.536109  2.095950    0.566946  1.312255   \n",
       "18    0.652877  4.221047    1.200380  2.118609    0.478690  1.341523   \n",
       "19    0.779031  4.617766    1.220831  2.141853    0.480514  1.383420   \n",
       "20    0.611644  4.684285    1.115282  2.175949    0.509431  1.385763   \n",
       "21    0.573120  4.777107    1.048029  2.202256    0.546834  1.420912   \n",
       "\n",
       "    RMSE BM 52  \n",
       "0     0.706456  \n",
       "1     0.678924  \n",
       "2     0.572802  \n",
       "3     0.496831  \n",
       "4     0.359398  \n",
       "5     0.388146  \n",
       "6     0.432303  \n",
       "7     0.423053  \n",
       "8     0.331759  \n",
       "9     0.271425  \n",
       "10    0.296568  \n",
       "11    0.475761  \n",
       "12    0.501180  \n",
       "13    0.452854  \n",
       "14    0.311088  \n",
       "15    0.400430  \n",
       "16    0.435888  \n",
       "17    0.507913  \n",
       "18    0.470762  \n",
       "19    0.325285  \n",
       "20    0.370589  \n",
       "21    0.459040  \n",
       "\n",
       "[22 rows x 107 columns]"
      ]
     },
     "execution_count": 25,
     "metadata": {},
     "output_type": "execute_result"
    }
   ],
   "source": [
    "results"
   ]
  },
  {
   "cell_type": "code",
   "execution_count": 49,
   "metadata": {},
   "outputs": [
    {
     "name": "stdout",
     "output_type": "stream",
     "text": [
      "145\n",
      "505\n",
      "506\n",
      "507\n",
      "505\n",
      "506\n",
      "505\n",
      "506\n",
      "505\n",
      "505\n",
      "505\n",
      "505\n",
      "506\n",
      "505\n",
      "505\n",
      "505\n",
      "505\n",
      "506\n",
      "505\n",
      "505\n",
      "505\n",
      "505\n",
      "506\n",
      "505\n",
      "505\n",
      "505\n",
      "506\n",
      "506\n",
      "505\n",
      "505\n",
      "506\n",
      "505\n",
      "507\n",
      "505\n",
      "505\n",
      "506\n",
      "505\n",
      "507\n",
      "505\n",
      "505\n",
      "505\n",
      "505\n",
      "506\n",
      "505\n",
      "505\n",
      "505\n",
      "505\n",
      "506\n",
      "505\n",
      "505\n",
      "505\n",
      "505\n",
      "451\n"
     ]
    },
    {
     "data": {
      "text/html": [
       "<div>\n",
       "<style scoped>\n",
       "    .dataframe tbody tr th:only-of-type {\n",
       "        vertical-align: middle;\n",
       "    }\n",
       "\n",
       "    .dataframe tbody tr th {\n",
       "        vertical-align: top;\n",
       "    }\n",
       "\n",
       "    .dataframe thead th {\n",
       "        text-align: right;\n",
       "    }\n",
       "</style>\n",
       "<table border=\"1\" class=\"dataframe\">\n",
       "  <thead>\n",
       "    <tr style=\"text-align: right;\">\n",
       "      <th></th>\n",
       "      <th>0</th>\n",
       "      <th>1</th>\n",
       "      <th>2</th>\n",
       "      <th>3</th>\n",
       "      <th>4</th>\n",
       "      <th>5</th>\n",
       "      <th>6</th>\n",
       "      <th>7</th>\n",
       "      <th>8</th>\n",
       "      <th>9</th>\n",
       "      <th>...</th>\n",
       "      <th>43</th>\n",
       "      <th>44</th>\n",
       "      <th>45</th>\n",
       "      <th>46</th>\n",
       "      <th>47</th>\n",
       "      <th>48</th>\n",
       "      <th>49</th>\n",
       "      <th>50</th>\n",
       "      <th>51</th>\n",
       "      <th>52</th>\n",
       "    </tr>\n",
       "  </thead>\n",
       "  <tbody>\n",
       "    <tr>\n",
       "      <th>0</th>\n",
       "      <td>62.76</td>\n",
       "      <td>169.69</td>\n",
       "      <td>-71.73</td>\n",
       "      <td>-204.61</td>\n",
       "      <td>-135.41</td>\n",
       "      <td>-195.67</td>\n",
       "      <td>83.29</td>\n",
       "      <td>63.69</td>\n",
       "      <td>93.65</td>\n",
       "      <td>-106.38</td>\n",
       "      <td>...</td>\n",
       "      <td>-31.83</td>\n",
       "      <td>21.98</td>\n",
       "      <td>-70.82</td>\n",
       "      <td>38.46</td>\n",
       "      <td>-58.34</td>\n",
       "      <td>-17.22</td>\n",
       "      <td>10.63</td>\n",
       "      <td>-49.31</td>\n",
       "      <td>12.18</td>\n",
       "      <td>-8.99</td>\n",
       "    </tr>\n",
       "    <tr>\n",
       "      <th>1</th>\n",
       "      <td>114.69</td>\n",
       "      <td>89.52</td>\n",
       "      <td>133.31</td>\n",
       "      <td>-98.84</td>\n",
       "      <td>-96.38</td>\n",
       "      <td>-169.35</td>\n",
       "      <td>-95.35</td>\n",
       "      <td>-79.04</td>\n",
       "      <td>89.11</td>\n",
       "      <td>-84.59</td>\n",
       "      <td>...</td>\n",
       "      <td>-25.20</td>\n",
       "      <td>-21.30</td>\n",
       "      <td>-57.04</td>\n",
       "      <td>-38.34</td>\n",
       "      <td>23.39</td>\n",
       "      <td>-15.39</td>\n",
       "      <td>-15.36</td>\n",
       "      <td>21.31</td>\n",
       "      <td>-11.04</td>\n",
       "      <td>10.75</td>\n",
       "    </tr>\n",
       "    <tr>\n",
       "      <th>2</th>\n",
       "      <td>82.28</td>\n",
       "      <td>73.12</td>\n",
       "      <td>60.88</td>\n",
       "      <td>97.35</td>\n",
       "      <td>-107.94</td>\n",
       "      <td>-109.32</td>\n",
       "      <td>-113.85</td>\n",
       "      <td>-125.70</td>\n",
       "      <td>148.01</td>\n",
       "      <td>153.86</td>\n",
       "      <td>...</td>\n",
       "      <td>-47.15</td>\n",
       "      <td>23.25</td>\n",
       "      <td>-74.16</td>\n",
       "      <td>-230.02</td>\n",
       "      <td>20.82</td>\n",
       "      <td>14.22</td>\n",
       "      <td>11.04</td>\n",
       "      <td>-17.13</td>\n",
       "      <td>12.66</td>\n",
       "      <td>10.42</td>\n",
       "    </tr>\n",
       "    <tr>\n",
       "      <th>3</th>\n",
       "      <td>-90.36</td>\n",
       "      <td>92.05</td>\n",
       "      <td>-89.91</td>\n",
       "      <td>97.33</td>\n",
       "      <td>-116.76</td>\n",
       "      <td>-141.19</td>\n",
       "      <td>-176.12</td>\n",
       "      <td>88.52</td>\n",
       "      <td>-87.75</td>\n",
       "      <td>85.13</td>\n",
       "      <td>...</td>\n",
       "      <td>-23.29</td>\n",
       "      <td>-31.48</td>\n",
       "      <td>58.97</td>\n",
       "      <td>93.52</td>\n",
       "      <td>25.31</td>\n",
       "      <td>-19.91</td>\n",
       "      <td>10.58</td>\n",
       "      <td>-27.11</td>\n",
       "      <td>11.29</td>\n",
       "      <td>8.24</td>\n",
       "    </tr>\n",
       "    <tr>\n",
       "      <th>4</th>\n",
       "      <td>-67.43</td>\n",
       "      <td>116.80</td>\n",
       "      <td>65.43</td>\n",
       "      <td>-88.85</td>\n",
       "      <td>84.67</td>\n",
       "      <td>-68.32</td>\n",
       "      <td>-119.39</td>\n",
       "      <td>-122.79</td>\n",
       "      <td>107.23</td>\n",
       "      <td>96.67</td>\n",
       "      <td>...</td>\n",
       "      <td>-23.72</td>\n",
       "      <td>-31.20</td>\n",
       "      <td>-261.94</td>\n",
       "      <td>-27.92</td>\n",
       "      <td>20.52</td>\n",
       "      <td>-40.98</td>\n",
       "      <td>14.97</td>\n",
       "      <td>-16.87</td>\n",
       "      <td>14.61</td>\n",
       "      <td>-8.14</td>\n",
       "    </tr>\n",
       "    <tr>\n",
       "      <th>...</th>\n",
       "      <td>...</td>\n",
       "      <td>...</td>\n",
       "      <td>...</td>\n",
       "      <td>...</td>\n",
       "      <td>...</td>\n",
       "      <td>...</td>\n",
       "      <td>...</td>\n",
       "      <td>...</td>\n",
       "      <td>...</td>\n",
       "      <td>...</td>\n",
       "      <td>...</td>\n",
       "      <td>...</td>\n",
       "      <td>...</td>\n",
       "      <td>...</td>\n",
       "      <td>...</td>\n",
       "      <td>...</td>\n",
       "      <td>...</td>\n",
       "      <td>...</td>\n",
       "      <td>...</td>\n",
       "      <td>...</td>\n",
       "      <td>...</td>\n",
       "    </tr>\n",
       "    <tr>\n",
       "      <th>502</th>\n",
       "      <td>NaN</td>\n",
       "      <td>-116.99</td>\n",
       "      <td>77.91</td>\n",
       "      <td>313.57</td>\n",
       "      <td>96.32</td>\n",
       "      <td>80.04</td>\n",
       "      <td>80.94</td>\n",
       "      <td>-71.06</td>\n",
       "      <td>-151.04</td>\n",
       "      <td>87.79</td>\n",
       "      <td>...</td>\n",
       "      <td>36.52</td>\n",
       "      <td>23.74</td>\n",
       "      <td>59.25</td>\n",
       "      <td>-25.03</td>\n",
       "      <td>-18.66</td>\n",
       "      <td>-20.32</td>\n",
       "      <td>10.76</td>\n",
       "      <td>27.66</td>\n",
       "      <td>12.77</td>\n",
       "      <td>NaN</td>\n",
       "    </tr>\n",
       "    <tr>\n",
       "      <th>503</th>\n",
       "      <td>NaN</td>\n",
       "      <td>78.87</td>\n",
       "      <td>77.82</td>\n",
       "      <td>161.75</td>\n",
       "      <td>108.68</td>\n",
       "      <td>105.56</td>\n",
       "      <td>83.47</td>\n",
       "      <td>96.57</td>\n",
       "      <td>120.51</td>\n",
       "      <td>120.04</td>\n",
       "      <td>...</td>\n",
       "      <td>-31.64</td>\n",
       "      <td>-39.81</td>\n",
       "      <td>-60.45</td>\n",
       "      <td>36.72</td>\n",
       "      <td>-24.62</td>\n",
       "      <td>-14.86</td>\n",
       "      <td>-13.26</td>\n",
       "      <td>-37.73</td>\n",
       "      <td>-21.95</td>\n",
       "      <td>NaN</td>\n",
       "    </tr>\n",
       "    <tr>\n",
       "      <th>504</th>\n",
       "      <td>NaN</td>\n",
       "      <td>-130.78</td>\n",
       "      <td>62.14</td>\n",
       "      <td>111.90</td>\n",
       "      <td>-122.78</td>\n",
       "      <td>-90.67</td>\n",
       "      <td>-129.60</td>\n",
       "      <td>-65.09</td>\n",
       "      <td>105.40</td>\n",
       "      <td>-84.05</td>\n",
       "      <td>...</td>\n",
       "      <td>-24.39</td>\n",
       "      <td>20.65</td>\n",
       "      <td>-144.10</td>\n",
       "      <td>24.54</td>\n",
       "      <td>-20.61</td>\n",
       "      <td>17.80</td>\n",
       "      <td>-14.23</td>\n",
       "      <td>22.07</td>\n",
       "      <td>-10.87</td>\n",
       "      <td>NaN</td>\n",
       "    </tr>\n",
       "    <tr>\n",
       "      <th>505</th>\n",
       "      <td>NaN</td>\n",
       "      <td>NaN</td>\n",
       "      <td>61.15</td>\n",
       "      <td>-94.47</td>\n",
       "      <td>NaN</td>\n",
       "      <td>-90.78</td>\n",
       "      <td>NaN</td>\n",
       "      <td>-79.03</td>\n",
       "      <td>NaN</td>\n",
       "      <td>NaN</td>\n",
       "      <td>...</td>\n",
       "      <td>NaN</td>\n",
       "      <td>NaN</td>\n",
       "      <td>NaN</td>\n",
       "      <td>NaN</td>\n",
       "      <td>-21.05</td>\n",
       "      <td>NaN</td>\n",
       "      <td>NaN</td>\n",
       "      <td>NaN</td>\n",
       "      <td>NaN</td>\n",
       "      <td>NaN</td>\n",
       "    </tr>\n",
       "    <tr>\n",
       "      <th>506</th>\n",
       "      <td>NaN</td>\n",
       "      <td>NaN</td>\n",
       "      <td>NaN</td>\n",
       "      <td>-108.67</td>\n",
       "      <td>NaN</td>\n",
       "      <td>NaN</td>\n",
       "      <td>NaN</td>\n",
       "      <td>NaN</td>\n",
       "      <td>NaN</td>\n",
       "      <td>NaN</td>\n",
       "      <td>...</td>\n",
       "      <td>NaN</td>\n",
       "      <td>NaN</td>\n",
       "      <td>NaN</td>\n",
       "      <td>NaN</td>\n",
       "      <td>NaN</td>\n",
       "      <td>NaN</td>\n",
       "      <td>NaN</td>\n",
       "      <td>NaN</td>\n",
       "      <td>NaN</td>\n",
       "      <td>NaN</td>\n",
       "    </tr>\n",
       "  </tbody>\n",
       "</table>\n",
       "<p>507 rows × 53 columns</p>\n",
       "</div>"
      ],
      "text/plain": [
       "          0       1       2       3       4       5       6       7       8  \\\n",
       "0     62.76  169.69  -71.73 -204.61 -135.41 -195.67   83.29   63.69   93.65   \n",
       "1    114.69   89.52  133.31  -98.84  -96.38 -169.35  -95.35  -79.04   89.11   \n",
       "2     82.28   73.12   60.88   97.35 -107.94 -109.32 -113.85 -125.70  148.01   \n",
       "3    -90.36   92.05  -89.91   97.33 -116.76 -141.19 -176.12   88.52  -87.75   \n",
       "4    -67.43  116.80   65.43  -88.85   84.67  -68.32 -119.39 -122.79  107.23   \n",
       "..      ...     ...     ...     ...     ...     ...     ...     ...     ...   \n",
       "502     NaN -116.99   77.91  313.57   96.32   80.04   80.94  -71.06 -151.04   \n",
       "503     NaN   78.87   77.82  161.75  108.68  105.56   83.47   96.57  120.51   \n",
       "504     NaN -130.78   62.14  111.90 -122.78  -90.67 -129.60  -65.09  105.40   \n",
       "505     NaN     NaN   61.15  -94.47     NaN  -90.78     NaN  -79.03     NaN   \n",
       "506     NaN     NaN     NaN -108.67     NaN     NaN     NaN     NaN     NaN   \n",
       "\n",
       "          9  ...     43     44      45      46     47     48     49     50  \\\n",
       "0   -106.38  ... -31.83  21.98  -70.82   38.46 -58.34 -17.22  10.63 -49.31   \n",
       "1    -84.59  ... -25.20 -21.30  -57.04  -38.34  23.39 -15.39 -15.36  21.31   \n",
       "2    153.86  ... -47.15  23.25  -74.16 -230.02  20.82  14.22  11.04 -17.13   \n",
       "3     85.13  ... -23.29 -31.48   58.97   93.52  25.31 -19.91  10.58 -27.11   \n",
       "4     96.67  ... -23.72 -31.20 -261.94  -27.92  20.52 -40.98  14.97 -16.87   \n",
       "..      ...  ...    ...    ...     ...     ...    ...    ...    ...    ...   \n",
       "502   87.79  ...  36.52  23.74   59.25  -25.03 -18.66 -20.32  10.76  27.66   \n",
       "503  120.04  ... -31.64 -39.81  -60.45   36.72 -24.62 -14.86 -13.26 -37.73   \n",
       "504  -84.05  ... -24.39  20.65 -144.10   24.54 -20.61  17.80 -14.23  22.07   \n",
       "505     NaN  ...    NaN    NaN     NaN     NaN -21.05    NaN    NaN    NaN   \n",
       "506     NaN  ...    NaN    NaN     NaN     NaN    NaN    NaN    NaN    NaN   \n",
       "\n",
       "        51     52  \n",
       "0    12.18  -8.99  \n",
       "1   -11.04  10.75  \n",
       "2    12.66  10.42  \n",
       "3    11.29   8.24  \n",
       "4    14.61  -8.14  \n",
       "..     ...    ...  \n",
       "502  12.77    NaN  \n",
       "503 -21.95    NaN  \n",
       "504 -10.87    NaN  \n",
       "505    NaN    NaN  \n",
       "506    NaN    NaN  \n",
       "\n",
       "[507 rows x 53 columns]"
      ]
     },
     "execution_count": 49,
     "metadata": {},
     "output_type": "execute_result"
    }
   ],
   "source": [
    "shocks = pd.DataFrame()\n",
    "i = 0\n",
    "\n",
    "for week_start_date, cex_df in cex_weekly.items():\n",
    "    # print(f\"Week starting on: {week_start_date}\")\n",
    "    # if len(results) == 0:\n",
    "    #   results = result\n",
    "\n",
    "    df = cex_df.copy()\n",
    "    # Calculate the absolute difference between open and close prices for cex\n",
    "    df['shock_height'] = abs(df['open'] - df['close'])\n",
    "    df['price_diff'] = df['close'] - df['open']\n",
    "\n",
    "    # Calculate the 95th percentile of the absolute difference\n",
    "    threshold = np.percentile(df['shock_height'], 95)\n",
    "\n",
    "    # Filter rows where the absolute difference is greater than or equal to the threshold\n",
    "    df_shock = df[df['shock_height'] >= threshold]\n",
    "    df_shock = df_shock.reset_index(drop=True)\n",
    "    print(len(df_shock))\n",
    "\n",
    "    shocks = pd.concat([shocks,df_shock['price_diff'].rename(f'{i}')], axis=1)\n",
    "\n",
    "    i += 1\n",
    "\n",
    "shocks"
   ]
  },
  {
   "cell_type": "code",
   "execution_count": 73,
   "metadata": {},
   "outputs": [
    {
     "name": "stderr",
     "output_type": "stream",
     "text": [
      "/home/collins/miniconda3/envs/caa_statistics/lib/python3.11/site-packages/seaborn/categorical.py:82: FutureWarning: iteritems is deprecated and will be removed in a future version. Use .items instead.\n",
      "  plot_data = [np.asarray(s, float) for k, s in iter_data]\n"
     ]
    },
    {
     "data": {
      "image/png": "[encoded data removed]",
      "text/plain": [
       "<Figure size 2000x1000 with 1 Axes>"
      ]
     },
     "metadata": {},
     "output_type": "display_data"
    }
   ],
   "source": [
    "import seaborn as sns\n",
    "plt.figure(figsize=(20,10))\n",
    "\n",
    "# plot boxplot with seaborn\n",
    "sns.boxplot(data=shocks)\n",
    "\n",
    "# Rotate x-labels for better visibility if they overlap\n",
    "plt.xticks(rotation=90)\n",
    "plt.grid(axis='y')\n",
    "plt.ylabel('CEX Highest 5% Candles (absolute value)', fontsize=20)\n",
    "plt.xlabel('Week in 2022', fontsize=20)\n",
    "\n",
    "# Show the plot\n",
    "plt.show()"
   ]
  },
  {
   "cell_type": "code",
   "execution_count": 45,
   "metadata": {},
   "outputs": [
    {
     "data": {
      "text/html": [
       "<div>\n",
       "<style scoped>\n",
       "    .dataframe tbody tr th:only-of-type {\n",
       "        vertical-align: middle;\n",
       "    }\n",
       "\n",
       "    .dataframe tbody tr th {\n",
       "        vertical-align: top;\n",
       "    }\n",
       "\n",
       "    .dataframe thead th {\n",
       "        text-align: right;\n",
       "    }\n",
       "</style>\n",
       "<table border=\"1\" class=\"dataframe\">\n",
       "  <thead>\n",
       "    <tr style=\"text-align: right;\">\n",
       "      <th></th>\n",
       "      <th>time</th>\n",
       "      <th>open</th>\n",
       "      <th>high</th>\n",
       "      <th>low</th>\n",
       "      <th>close</th>\n",
       "      <th>volume</th>\n",
       "      <th>shock_height</th>\n",
       "      <th>price_diff</th>\n",
       "    </tr>\n",
       "  </thead>\n",
       "  <tbody>\n",
       "    <tr>\n",
       "      <th>5140</th>\n",
       "      <td>2022-02-10 13:29:00</td>\n",
       "      <td>3251.40</td>\n",
       "      <td>3256.94</td>\n",
       "      <td>3250.70</td>\n",
       "      <td>3255.20</td>\n",
       "      <td>217.4570</td>\n",
       "      <td>3.80</td>\n",
       "      <td>3.80</td>\n",
       "    </tr>\n",
       "    <tr>\n",
       "      <th>5141</th>\n",
       "      <td>2022-02-10 13:30:00</td>\n",
       "      <td>3255.20</td>\n",
       "      <td>3255.40</td>\n",
       "      <td>3198.02</td>\n",
       "      <td>3198.04</td>\n",
       "      <td>4621.9525</td>\n",
       "      <td>57.16</td>\n",
       "      <td>-57.16</td>\n",
       "    </tr>\n",
       "    <tr>\n",
       "      <th>5142</th>\n",
       "      <td>2022-02-10 13:31:00</td>\n",
       "      <td>3198.03</td>\n",
       "      <td>3208.11</td>\n",
       "      <td>3180.65</td>\n",
       "      <td>3180.65</td>\n",
       "      <td>3452.2160</td>\n",
       "      <td>17.38</td>\n",
       "      <td>-17.38</td>\n",
       "    </tr>\n",
       "    <tr>\n",
       "      <th>5143</th>\n",
       "      <td>2022-02-10 13:32:00</td>\n",
       "      <td>3180.64</td>\n",
       "      <td>3190.34</td>\n",
       "      <td>3170.00</td>\n",
       "      <td>3182.51</td>\n",
       "      <td>3967.3450</td>\n",
       "      <td>1.87</td>\n",
       "      <td>1.87</td>\n",
       "    </tr>\n",
       "  </tbody>\n",
       "</table>\n",
       "</div>"
      ],
      "text/plain": [
       "                    time     open     high      low    close     volume  \\\n",
       "5140 2022-02-10 13:29:00  3251.40  3256.94  3250.70  3255.20   217.4570   \n",
       "5141 2022-02-10 13:30:00  3255.20  3255.40  3198.02  3198.04  4621.9525   \n",
       "5142 2022-02-10 13:31:00  3198.03  3208.11  3180.65  3180.65  3452.2160   \n",
       "5143 2022-02-10 13:32:00  3180.64  3190.34  3170.00  3182.51  3967.3450   \n",
       "\n",
       "      shock_height  price_diff  \n",
       "5140          3.80        3.80  \n",
       "5141         57.16      -57.16  \n",
       "5142         17.38      -17.38  \n",
       "5143          1.87        1.87  "
      ]
     },
     "execution_count": 45,
     "metadata": {},
     "output_type": "execute_result"
    }
   ],
   "source": [
    "df = cex_df.copy()\n",
    "# Calculate the absolute difference between open and close prices for cex\n",
    "df['shock_height'] = abs(df['open'] - df['close'])\n",
    "df['price_diff'] = df['close'] - df['open']\n",
    "\n",
    "# # Calculate the 95th percentile of the absolute difference\n",
    "# threshold = np.percentile(df['shock_height'], 95)\n",
    "\n",
    "# # Filter rows where the absolute difference is greater than or equal to the threshold\n",
    "# df_shock = df[df['shock_height'] >= threshold]\n",
    "\n",
    "df_reset = df.reset_index()\n",
    "# Find the row number of the max shock_height\n",
    "max_row_number = df_reset['shock_height'].idxmax()\n",
    "\n",
    "# Calculate the start and end row numbers \n",
    "start = max(0, max_row_number - 1)\n",
    "end = max_row_number + 2\n",
    "\n",
    "# Create new dataframe with the specified range\n",
    "new_df = df_reset.iloc[start:end+1]\n",
    "new_df"
   ]
  },
  {
   "cell_type": "code",
   "execution_count": 50,
   "metadata": {},
   "outputs": [
    {
     "data": {
      "application/vnd.plotly.v1+json": {
       "config": {
        "plotlyServerURL": "https://plot.ly"
       },
       "data": [
        {
         "close": [
          3255.2,
          3198.04,
          3180.65,
          3182.51
         ],
         "high": [
          3256.94,
          3255.4,
          3208.11,
          3190.34
         ],
         "low": [
          3250.7,
          3198.02,
          3180.65,
          3170
         ],
         "open": [
          3251.4,
          3255.2,
          3198.03,
          3180.64
         ],
         "type": "candlestick",
         "x": [
          "2022-02-10T13:29:00",
          "2022-02-10T13:30:00",
          "2022-02-10T13:31:00",
          "2022-02-10T13:32:00"
         ]
        }
       ],
       "layout": {
        "autosize": false,
        "height": 400,
        "template": {
         "data": {
          "bar": [
           {
            "error_x": {
             "color": "#2a3f5f"
            },
            "error_y": {
             "color": "#2a3f5f"
            },
            "marker": {
             "line": {
              "color": "#E5ECF6",
              "width": 0.5
             },
             "pattern": {
              "fillmode": "overlay",
              "size": 10,
              "solidity": 0.2
             }
            },
            "type": "bar"
           }
          ],
          "barpolar": [
           {
            "marker": {
             "line": {
              "color": "#E5ECF6",
              "width": 0.5
             },
             "pattern": {
              "fillmode": "overlay",
              "size": 10,
              "solidity": 0.2
             }
            },
            "type": "barpolar"
           }
          ],
          "carpet": [
           {
            "aaxis": {
             "endlinecolor": "#2a3f5f",
             "gridcolor": "white",
             "linecolor": "white",
             "minorgridcolor": "white",
             "startlinecolor": "#2a3f5f"
            },
            "baxis": {
             "endlinecolor": "#2a3f5f",
             "gridcolor": "white",
             "linecolor": "white",
             "minorgridcolor": "white",
             "startlinecolor": "#2a3f5f"
            },
            "type": "carpet"
           }
          ],
          "choropleth": [
           {
            "colorbar": {
             "outlinewidth": 0,
             "ticks": ""
            },
            "type": "choropleth"
           }
          ],
          "contour": [
           {
            "colorbar": {
             "outlinewidth": 0,
             "ticks": ""
            },
            "colorscale": [
             [
              0,
              "#0d0887"
             ],
             [
              0.1111111111111111,
              "#46039f"
             ],
             [
              0.2222222222222222,
              "#7201a8"
             ],
             [
              0.3333333333333333,
              "#9c179e"
             ],
             [
              0.4444444444444444,
              "#bd3786"
             ],
             [
              0.5555555555555556,
              "#d8576b"
             ],
             [
              0.6666666666666666,
              "#ed7953"
             ],
             [
              0.7777777777777778,
              "#fb9f3a"
             ],
             [
              0.8888888888888888,
              "#fdca26"
             ],
             [
              1,
              "#f0f921"
             ]
            ],
            "type": "contour"
           }
          ],
          "contourcarpet": [
           {
            "colorbar": {
             "outlinewidth": 0,
             "ticks": ""
            },
            "type": "contourcarpet"
           }
          ],
          "heatmap": [
           {
            "colorbar": {
             "outlinewidth": 0,
             "ticks": ""
            },
            "colorscale": [
             [
              0,
              "#0d0887"
             ],
             [
              0.1111111111111111,
              "#46039f"
             ],
             [
              0.2222222222222222,
              "#7201a8"
             ],
             [
              0.3333333333333333,
              "#9c179e"
             ],
             [
              0.4444444444444444,
              "#bd3786"
             ],
             [
              0.5555555555555556,
              "#d8576b"
             ],
             [
              0.6666666666666666,
              "#ed7953"
             ],
             [
              0.7777777777777778,
              "#fb9f3a"
             ],
             [
              0.8888888888888888,
              "#fdca26"
             ],
             [
              1,
              "#f0f921"
             ]
            ],
            "type": "heatmap"
           }
          ],
          "heatmapgl": [
           {
            "colorbar": {
             "outlinewidth": 0,
             "ticks": ""
            },
            "colorscale": [
             [
              0,
              "#0d0887"
             ],
             [
              0.1111111111111111,
              "#46039f"
             ],
             [
              0.2222222222222222,
              "#7201a8"
             ],
             [
              0.3333333333333333,
              "#9c179e"
             ],
             [
              0.4444444444444444,
              "#bd3786"
             ],
             [
              0.5555555555555556,
              "#d8576b"
             ],
             [
              0.6666666666666666,
              "#ed7953"
             ],
             [
              0.7777777777777778,
              "#fb9f3a"
             ],
             [
              0.8888888888888888,
              "#fdca26"
             ],
             [
              1,
              "#f0f921"
             ]
            ],
            "type": "heatmapgl"
           }
          ],
          "histogram": [
           {
            "marker": {
             "pattern": {
              "fillmode": "overlay",
              "size": 10,
              "solidity": 0.2
             }
            },
            "type": "histogram"
           }
          ],
          "histogram2d": [
           {
            "colorbar": {
             "outlinewidth": 0,
             "ticks": ""
            },
            "colorscale": [
             [
              0,
              "#0d0887"
             ],
             [
              0.1111111111111111,
              "#46039f"
             ],
             [
              0.2222222222222222,
              "#7201a8"
             ],
             [
              0.3333333333333333,
              "#9c179e"
             ],
             [
              0.4444444444444444,
              "#bd3786"
             ],
             [
              0.5555555555555556,
              "#d8576b"
             ],
             [
              0.6666666666666666,
              "#ed7953"
             ],
             [
              0.7777777777777778,
              "#fb9f3a"
             ],
             [
              0.8888888888888888,
              "#fdca26"
             ],
             [
              1,
              "#f0f921"
             ]
            ],
            "type": "histogram2d"
           }
          ],
          "histogram2dcontour": [
           {
            "colorbar": {
             "outlinewidth": 0,
             "ticks": ""
            },
            "colorscale": [
             [
              0,
              "#0d0887"
             ],
             [
              0.1111111111111111,
              "#46039f"
             ],
             [
              0.2222222222222222,
              "#7201a8"
             ],
             [
              0.3333333333333333,
              "#9c179e"
             ],
             [
              0.4444444444444444,
              "#bd3786"
             ],
             [
              0.5555555555555556,
              "#d8576b"
             ],
             [
              0.6666666666666666,
              "#ed7953"
             ],
             [
              0.7777777777777778,
              "#fb9f3a"
             ],
             [
              0.8888888888888888,
              "#fdca26"
             ],
             [
              1,
              "#f0f921"
             ]
            ],
            "type": "histogram2dcontour"
           }
          ],
          "mesh3d": [
           {
            "colorbar": {
             "outlinewidth": 0,
             "ticks": ""
            },
            "type": "mesh3d"
           }
          ],
          "parcoords": [
           {
            "line": {
             "colorbar": {
              "outlinewidth": 0,
              "ticks": ""
             }
            },
            "type": "parcoords"
           }
          ],
          "pie": [
           {
            "automargin": true,
            "type": "pie"
           }
          ],
          "scatter": [
           {
            "fillpattern": {
             "fillmode": "overlay",
             "size": 10,
             "solidity": 0.2
            },
            "type": "scatter"
           }
          ],
          "scatter3d": [
           {
            "line": {
             "colorbar": {
              "outlinewidth": 0,
              "ticks": ""
             }
            },
            "marker": {
             "colorbar": {
              "outlinewidth": 0,
              "ticks": ""
             }
            },
            "type": "scatter3d"
           }
          ],
          "scattercarpet": [
           {
            "marker": {
             "colorbar": {
              "outlinewidth": 0,
              "ticks": ""
             }
            },
            "type": "scattercarpet"
           }
          ],
          "scattergeo": [
           {
            "marker": {
             "colorbar": {
              "outlinewidth": 0,
              "ticks": ""
             }
            },
            "type": "scattergeo"
           }
          ],
          "scattergl": [
           {
            "marker": {
             "colorbar": {
              "outlinewidth": 0,
              "ticks": ""
             }
            },
            "type": "scattergl"
           }
          ],
          "scattermapbox": [
           {
            "marker": {
             "colorbar": {
              "outlinewidth": 0,
              "ticks": ""
             }
            },
            "type": "scattermapbox"
           }
          ],
          "scatterpolar": [
           {
            "marker": {
             "colorbar": {
              "outlinewidth": 0,
              "ticks": ""
             }
            },
            "type": "scatterpolar"
           }
          ],
          "scatterpolargl": [
           {
            "marker": {
             "colorbar": {
              "outlinewidth": 0,
              "ticks": ""
             }
            },
            "type": "scatterpolargl"
           }
          ],
          "scatterternary": [
           {
            "marker": {
             "colorbar": {
              "outlinewidth": 0,
              "ticks": ""
             }
            },
            "type": "scatterternary"
           }
          ],
          "surface": [
           {
            "colorbar": {
             "outlinewidth": 0,
             "ticks": ""
            },
            "colorscale": [
             [
              0,
              "#0d0887"
             ],
             [
              0.1111111111111111,
              "#46039f"
             ],
             [
              0.2222222222222222,
              "#7201a8"
             ],
             [
              0.3333333333333333,
              "#9c179e"
             ],
             [
              0.4444444444444444,
              "#bd3786"
             ],
             [
              0.5555555555555556,
              "#d8576b"
             ],
             [
              0.6666666666666666,
              "#ed7953"
             ],
             [
              0.7777777777777778,
              "#fb9f3a"
             ],
             [
              0.8888888888888888,
              "#fdca26"
             ],
             [
              1,
              "#f0f921"
             ]
            ],
            "type": "surface"
           }
          ],
          "table": [
           {
            "cells": {
             "fill": {
              "color": "#EBF0F8"
             },
             "line": {
              "color": "white"
             }
            },
            "header": {
             "fill": {
              "color": "#C8D4E3"
             },
             "line": {
              "color": "white"
             }
            },
            "type": "table"
           }
          ]
         },
         "layout": {
          "annotationdefaults": {
           "arrowcolor": "#2a3f5f",
           "arrowhead": 0,
           "arrowwidth": 1
          },
          "autotypenumbers": "strict",
          "coloraxis": {
           "colorbar": {
            "outlinewidth": 0,
            "ticks": ""
           }
          },
          "colorscale": {
           "diverging": [
            [
             0,
             "#8e0152"
            ],
            [
             0.1,
             "#c51b7d"
            ],
            [
             0.2,
             "#de77ae"
            ],
            [
             0.3,
             "#f1b6da"
            ],
            [
             0.4,
             "#fde0ef"
            ],
            [
             0.5,
             "#f7f7f7"
            ],
            [
             0.6,
             "#e6f5d0"
            ],
            [
             0.7,
             "#b8e186"
            ],
            [
             0.8,
             "#7fbc41"
            ],
            [
             0.9,
             "#4d9221"
            ],
            [
             1,
             "#276419"
            ]
           ],
           "sequential": [
            [
             0,
             "#0d0887"
            ],
            [
             0.1111111111111111,
             "#46039f"
            ],
            [
             0.2222222222222222,
             "#7201a8"
            ],
            [
             0.3333333333333333,
             "#9c179e"
            ],
            [
             0.4444444444444444,
             "#bd3786"
            ],
            [
             0.5555555555555556,
             "#d8576b"
            ],
            [
             0.6666666666666666,
             "#ed7953"
            ],
            [
             0.7777777777777778,
             "#fb9f3a"
            ],
            [
             0.8888888888888888,
             "#fdca26"
            ],
            [
             1,
             "#f0f921"
            ]
           ],
           "sequentialminus": [
            [
             0,
             "#0d0887"
            ],
            [
             0.1111111111111111,
             "#46039f"
            ],
            [
             0.2222222222222222,
             "#7201a8"
            ],
            [
             0.3333333333333333,
             "#9c179e"
            ],
            [
             0.4444444444444444,
             "#bd3786"
            ],
            [
             0.5555555555555556,
             "#d8576b"
            ],
            [
             0.6666666666666666,
             "#ed7953"
            ],
            [
             0.7777777777777778,
             "#fb9f3a"
            ],
            [
             0.8888888888888888,
             "#fdca26"
            ],
            [
             1,
             "#f0f921"
            ]
           ]
          },
          "colorway": [
           "#636efa",
           "#EF553B",
           "#00cc96",
           "#ab63fa",
           "#FFA15A",
           "#19d3f3",
           "#FF6692",
           "#B6E880",
           "#FF97FF",
           "#FECB52"
          ],
          "font": {
           "color": "#2a3f5f"
          },
          "geo": {
           "bgcolor": "white",
           "lakecolor": "white",
           "landcolor": "#E5ECF6",
           "showlakes": true,
           "showland": true,
           "subunitcolor": "white"
          },
          "hoverlabel": {
           "align": "left"
          },
          "hovermode": "closest",
          "mapbox": {
           "style": "light"
          },
          "paper_bgcolor": "white",
          "plot_bgcolor": "#E5ECF6",
          "polar": {
           "angularaxis": {
            "gridcolor": "white",
            "linecolor": "white",
            "ticks": ""
           },
           "bgcolor": "#E5ECF6",
           "radialaxis": {
            "gridcolor": "white",
            "linecolor": "white",
            "ticks": ""
           }
          },
          "scene": {
           "xaxis": {
            "backgroundcolor": "#E5ECF6",
            "gridcolor": "white",
            "gridwidth": 2,
            "linecolor": "white",
            "showbackground": true,
            "ticks": "",
            "zerolinecolor": "white"
           },
           "yaxis": {
            "backgroundcolor": "#E5ECF6",
            "gridcolor": "white",
            "gridwidth": 2,
            "linecolor": "white",
            "showbackground": true,
            "ticks": "",
            "zerolinecolor": "white"
           },
           "zaxis": {
            "backgroundcolor": "#E5ECF6",
            "gridcolor": "white",
            "gridwidth": 2,
            "linecolor": "white",
            "showbackground": true,
            "ticks": "",
            "zerolinecolor": "white"
           }
          },
          "shapedefaults": {
           "line": {
            "color": "#2a3f5f"
           }
          },
          "ternary": {
           "aaxis": {
            "gridcolor": "white",
            "linecolor": "white",
            "ticks": ""
           },
           "baxis": {
            "gridcolor": "white",
            "linecolor": "white",
            "ticks": ""
           },
           "bgcolor": "#E5ECF6",
           "caxis": {
            "gridcolor": "white",
            "linecolor": "white",
            "ticks": ""
           }
          },
          "title": {
           "x": 0.05
          },
          "xaxis": {
           "automargin": true,
           "gridcolor": "white",
           "linecolor": "white",
           "ticks": "",
           "title": {
            "standoff": 15
           },
           "zerolinecolor": "white",
           "zerolinewidth": 2
          },
          "yaxis": {
           "automargin": true,
           "gridcolor": "white",
           "linecolor": "white",
           "ticks": "",
           "title": {
            "standoff": 15
           },
           "zerolinecolor": "white",
           "zerolinewidth": 2
          }
         }
        },
        "width": 500
       }
      },
      "text/html": [
       "<div>                            <div id=\"4f2bf318-bda9-4338-8526-133d601b5909\" class=\"plotly-graph-div\" style=\"height:400px; width:500px;\"></div>            <script type=\"text/javascript\">                require([\"plotly\"], function(Plotly) {                    window.PLOTLYENV=window.PLOTLYENV || {};                                    if (document.getElementById(\"4f2bf318-bda9-4338-8526-133d601b5909\")) {                    Plotly.newPlot(                        \"4f2bf318-bda9-4338-8526-133d601b5909\",                        [{\"close\":[3255.2,3198.04,3180.65,3182.51],\"high\":[3256.94,3255.4,3208.11,3190.34],\"low\":[3250.7,3198.02,3180.65,3170.0],\"open\":[3251.4,3255.2,3198.03,3180.64],\"x\":[\"2022-02-10T13:29:00\",\"2022-02-10T13:30:00\",\"2022-02-10T13:31:00\",\"2022-02-10T13:32:00\"],\"type\":\"candlestick\"}],                        {\"template\":{\"data\":{\"histogram2dcontour\":[{\"type\":\"histogram2dcontour\",\"colorbar\":{\"outlinewidth\":0,\"ticks\":\"\"},\"colorscale\":[[0.0,\"#0d0887\"],[0.1111111111111111,\"#46039f\"],[0.2222222222222222,\"#7201a8\"],[0.3333333333333333,\"#9c179e\"],[0.4444444444444444,\"#bd3786\"],[0.5555555555555556,\"#d8576b\"],[0.6666666666666666,\"#ed7953\"],[0.7777777777777778,\"#fb9f3a\"],[0.8888888888888888,\"#fdca26\"],[1.0,\"#f0f921\"]]}],\"choropleth\":[{\"type\":\"choropleth\",\"colorbar\":{\"outlinewidth\":0,\"ticks\":\"\"}}],\"histogram2d\":[{\"type\":\"histogram2d\",\"colorbar\":{\"outlinewidth\":0,\"ticks\":\"\"},\"colorscale\":[[0.0,\"#0d0887\"],[0.1111111111111111,\"#46039f\"],[0.2222222222222222,\"#7201a8\"],[0.3333333333333333,\"#9c179e\"],[0.4444444444444444,\"#bd3786\"],[0.5555555555555556,\"#d8576b\"],[0.6666666666666666,\"#ed7953\"],[0.7777777777777778,\"#fb9f3a\"],[0.8888888888888888,\"#fdca26\"],[1.0,\"#f0f921\"]]}],\"heatmap\":[{\"type\":\"heatmap\",\"colorbar\":{\"outlinewidth\":0,\"ticks\":\"\"},\"colorscale\":[[0.0,\"#0d0887\"],[0.1111111111111111,\"#46039f\"],[0.2222222222222222,\"#7201a8\"],[0.3333333333333333,\"#9c179e\"],[0.4444444444444444,\"#bd3786\"],[0.5555555555555556,\"#d8576b\"],[0.6666666666666666,\"#ed7953\"],[0.7777777777777778,\"#fb9f3a\"],[0.8888888888888888,\"#fdca26\"],[1.0,\"#f0f921\"]]}],\"heatmapgl\":[{\"type\":\"heatmapgl\",\"colorbar\":{\"outlinewidth\":0,\"ticks\":\"\"},\"colorscale\":[[0.0,\"#0d0887\"],[0.1111111111111111,\"#46039f\"],[0.2222222222222222,\"#7201a8\"],[0.3333333333333333,\"#9c179e\"],[0.4444444444444444,\"#bd3786\"],[0.5555555555555556,\"#d8576b\"],[0.6666666666666666,\"#ed7953\"],[0.7777777777777778,\"#fb9f3a\"],[0.8888888888888888,\"#fdca26\"],[1.0,\"#f0f921\"]]}],\"contourcarpet\":[{\"type\":\"contourcarpet\",\"colorbar\":{\"outlinewidth\":0,\"ticks\":\"\"}}],\"contour\":[{\"type\":\"contour\",\"colorbar\":{\"outlinewidth\":0,\"ticks\":\"\"},\"colorscale\":[[0.0,\"#0d0887\"],[0.1111111111111111,\"#46039f\"],[0.2222222222222222,\"#7201a8\"],[0.3333333333333333,\"#9c179e\"],[0.4444444444444444,\"#bd3786\"],[0.5555555555555556,\"#d8576b\"],[0.6666666666666666,\"#ed7953\"],[0.7777777777777778,\"#fb9f3a\"],[0.8888888888888888,\"#fdca26\"],[1.0,\"#f0f921\"]]}],\"surface\":[{\"type\":\"surface\",\"colorbar\":{\"outlinewidth\":0,\"ticks\":\"\"},\"colorscale\":[[0.0,\"#0d0887\"],[0.1111111111111111,\"#46039f\"],[0.2222222222222222,\"#7201a8\"],[0.3333333333333333,\"#9c179e\"],[0.4444444444444444,\"#bd3786\"],[0.5555555555555556,\"#d8576b\"],[0.6666666666666666,\"#ed7953\"],[0.7777777777777778,\"#fb9f3a\"],[0.8888888888888888,\"#fdca26\"],[1.0,\"#f0f921\"]]}],\"mesh3d\":[{\"type\":\"mesh3d\",\"colorbar\":{\"outlinewidth\":0,\"ticks\":\"\"}}],\"scatter\":[{\"fillpattern\":{\"fillmode\":\"overlay\",\"size\":10,\"solidity\":0.2},\"type\":\"scatter\"}],\"parcoords\":[{\"type\":\"parcoords\",\"line\":{\"colorbar\":{\"outlinewidth\":0,\"ticks\":\"\"}}}],\"scatterpolargl\":[{\"type\":\"scatterpolargl\",\"marker\":{\"colorbar\":{\"outlinewidth\":0,\"ticks\":\"\"}}}],\"bar\":[{\"error_x\":{\"color\":\"#2a3f5f\"},\"error_y\":{\"color\":\"#2a3f5f\"},\"marker\":{\"line\":{\"color\":\"#E5ECF6\",\"width\":0.5},\"pattern\":{\"fillmode\":\"overlay\",\"size\":10,\"solidity\":0.2}},\"type\":\"bar\"}],\"scattergeo\":[{\"type\":\"scattergeo\",\"marker\":{\"colorbar\":{\"outlinewidth\":0,\"ticks\":\"\"}}}],\"scatterpolar\":[{\"type\":\"scatterpolar\",\"marker\":{\"colorbar\":{\"outlinewidth\":0,\"ticks\":\"\"}}}],\"histogram\":[{\"marker\":{\"pattern\":{\"fillmode\":\"overlay\",\"size\":10,\"solidity\":0.2}},\"type\":\"histogram\"}],\"scattergl\":[{\"type\":\"scattergl\",\"marker\":{\"colorbar\":{\"outlinewidth\":0,\"ticks\":\"\"}}}],\"scatter3d\":[{\"type\":\"scatter3d\",\"line\":{\"colorbar\":{\"outlinewidth\":0,\"ticks\":\"\"}},\"marker\":{\"colorbar\":{\"outlinewidth\":0,\"ticks\":\"\"}}}],\"scattermapbox\":[{\"type\":\"scattermapbox\",\"marker\":{\"colorbar\":{\"outlinewidth\":0,\"ticks\":\"\"}}}],\"scatterternary\":[{\"type\":\"scatterternary\",\"marker\":{\"colorbar\":{\"outlinewidth\":0,\"ticks\":\"\"}}}],\"scattercarpet\":[{\"type\":\"scattercarpet\",\"marker\":{\"colorbar\":{\"outlinewidth\":0,\"ticks\":\"\"}}}],\"carpet\":[{\"aaxis\":{\"endlinecolor\":\"#2a3f5f\",\"gridcolor\":\"white\",\"linecolor\":\"white\",\"minorgridcolor\":\"white\",\"startlinecolor\":\"#2a3f5f\"},\"baxis\":{\"endlinecolor\":\"#2a3f5f\",\"gridcolor\":\"white\",\"linecolor\":\"white\",\"minorgridcolor\":\"white\",\"startlinecolor\":\"#2a3f5f\"},\"type\":\"carpet\"}],\"table\":[{\"cells\":{\"fill\":{\"color\":\"#EBF0F8\"},\"line\":{\"color\":\"white\"}},\"header\":{\"fill\":{\"color\":\"#C8D4E3\"},\"line\":{\"color\":\"white\"}},\"type\":\"table\"}],\"barpolar\":[{\"marker\":{\"line\":{\"color\":\"#E5ECF6\",\"width\":0.5},\"pattern\":{\"fillmode\":\"overlay\",\"size\":10,\"solidity\":0.2}},\"type\":\"barpolar\"}],\"pie\":[{\"automargin\":true,\"type\":\"pie\"}]},\"layout\":{\"autotypenumbers\":\"strict\",\"colorway\":[\"#636efa\",\"#EF553B\",\"#00cc96\",\"#ab63fa\",\"#FFA15A\",\"#19d3f3\",\"#FF6692\",\"#B6E880\",\"#FF97FF\",\"#FECB52\"],\"font\":{\"color\":\"#2a3f5f\"},\"hovermode\":\"closest\",\"hoverlabel\":{\"align\":\"left\"},\"paper_bgcolor\":\"white\",\"plot_bgcolor\":\"#E5ECF6\",\"polar\":{\"bgcolor\":\"#E5ECF6\",\"angularaxis\":{\"gridcolor\":\"white\",\"linecolor\":\"white\",\"ticks\":\"\"},\"radialaxis\":{\"gridcolor\":\"white\",\"linecolor\":\"white\",\"ticks\":\"\"}},\"ternary\":{\"bgcolor\":\"#E5ECF6\",\"aaxis\":{\"gridcolor\":\"white\",\"linecolor\":\"white\",\"ticks\":\"\"},\"baxis\":{\"gridcolor\":\"white\",\"linecolor\":\"white\",\"ticks\":\"\"},\"caxis\":{\"gridcolor\":\"white\",\"linecolor\":\"white\",\"ticks\":\"\"}},\"coloraxis\":{\"colorbar\":{\"outlinewidth\":0,\"ticks\":\"\"}},\"colorscale\":{\"sequential\":[[0.0,\"#0d0887\"],[0.1111111111111111,\"#46039f\"],[0.2222222222222222,\"#7201a8\"],[0.3333333333333333,\"#9c179e\"],[0.4444444444444444,\"#bd3786\"],[0.5555555555555556,\"#d8576b\"],[0.6666666666666666,\"#ed7953\"],[0.7777777777777778,\"#fb9f3a\"],[0.8888888888888888,\"#fdca26\"],[1.0,\"#f0f921\"]],\"sequentialminus\":[[0.0,\"#0d0887\"],[0.1111111111111111,\"#46039f\"],[0.2222222222222222,\"#7201a8\"],[0.3333333333333333,\"#9c179e\"],[0.4444444444444444,\"#bd3786\"],[0.5555555555555556,\"#d8576b\"],[0.6666666666666666,\"#ed7953\"],[0.7777777777777778,\"#fb9f3a\"],[0.8888888888888888,\"#fdca26\"],[1.0,\"#f0f921\"]],\"diverging\":[[0,\"#8e0152\"],[0.1,\"#c51b7d\"],[0.2,\"#de77ae\"],[0.3,\"#f1b6da\"],[0.4,\"#fde0ef\"],[0.5,\"#f7f7f7\"],[0.6,\"#e6f5d0\"],[0.7,\"#b8e186\"],[0.8,\"#7fbc41\"],[0.9,\"#4d9221\"],[1,\"#276419\"]]},\"xaxis\":{\"gridcolor\":\"white\",\"linecolor\":\"white\",\"ticks\":\"\",\"title\":{\"standoff\":15},\"zerolinecolor\":\"white\",\"automargin\":true,\"zerolinewidth\":2},\"yaxis\":{\"gridcolor\":\"white\",\"linecolor\":\"white\",\"ticks\":\"\",\"title\":{\"standoff\":15},\"zerolinecolor\":\"white\",\"automargin\":true,\"zerolinewidth\":2},\"scene\":{\"xaxis\":{\"backgroundcolor\":\"#E5ECF6\",\"gridcolor\":\"white\",\"linecolor\":\"white\",\"showbackground\":true,\"ticks\":\"\",\"zerolinecolor\":\"white\",\"gridwidth\":2},\"yaxis\":{\"backgroundcolor\":\"#E5ECF6\",\"gridcolor\":\"white\",\"linecolor\":\"white\",\"showbackground\":true,\"ticks\":\"\",\"zerolinecolor\":\"white\",\"gridwidth\":2},\"zaxis\":{\"backgroundcolor\":\"#E5ECF6\",\"gridcolor\":\"white\",\"linecolor\":\"white\",\"showbackground\":true,\"ticks\":\"\",\"zerolinecolor\":\"white\",\"gridwidth\":2}},\"shapedefaults\":{\"line\":{\"color\":\"#2a3f5f\"}},\"annotationdefaults\":{\"arrowcolor\":\"#2a3f5f\",\"arrowhead\":0,\"arrowwidth\":1},\"geo\":{\"bgcolor\":\"white\",\"landcolor\":\"#E5ECF6\",\"subunitcolor\":\"white\",\"showland\":true,\"showlakes\":true,\"lakecolor\":\"white\"},\"title\":{\"x\":0.05},\"mapbox\":{\"style\":\"light\"}}},\"autosize\":false,\"width\":500,\"height\":400},                        {\"responsive\": true}                    ).then(function(){\n",
       "                            \n",
       "var gd = document.getElementById('4f2bf318-bda9-4338-8526-133d601b5909');\n",
       "var x = new MutationObserver(function (mutations, observer) {{\n",
       "        var display = window.getComputedStyle(gd).display;\n",
       "        if (!display || display === 'none') {{\n",
       "            console.log([gd, 'removed!']);\n",
       "            Plotly.purge(gd);\n",
       "            observer.disconnect();\n",
       "        }}\n",
       "}});\n",
       "\n",
       "// Listen for the removal of the full notebook cells\n",
       "var notebookContainer = gd.closest('#notebook-container');\n",
       "if (notebookContainer) {{\n",
       "    x.observe(notebookContainer, {childList: true});\n",
       "}}\n",
       "\n",
       "// Listen for the clearing of the current output cell\n",
       "var outputEl = gd.closest('.output');\n",
       "if (outputEl) {{\n",
       "    x.observe(outputEl, {childList: true});\n",
       "}}\n",
       "\n",
       "                        })                };                });            </script>        </div>"
      ]
     },
     "metadata": {},
     "output_type": "display_data"
    }
   ],
   "source": [
    "import plotly.graph_objects as go\n",
    "\n",
    "fig = go.Figure(data=[go.Candlestick(x=new_df['time'],\n",
    "                open=new_df['open'],\n",
    "                high=new_df['high'],\n",
    "                low=new_df['low'],\n",
    "                close=new_df['close'])])\n",
    "fig.update_layout(\n",
    "    autosize=False,\n",
    "    width=500,  # You can adjust this to suit your needs\n",
    "    height=400  # You can adjust this to suit your needs\n",
    ")\n",
    "\n",
    "fig.show()"
   ]
  },
  {
   "cell_type": "code",
   "execution_count": 40,
   "metadata": {},
   "outputs": [
    {
     "data": {
      "text/html": [
       "<div>\n",
       "<style scoped>\n",
       "    .dataframe tbody tr th:only-of-type {\n",
       "        vertical-align: middle;\n",
       "    }\n",
       "\n",
       "    .dataframe tbody tr th {\n",
       "        vertical-align: top;\n",
       "    }\n",
       "\n",
       "    .dataframe thead th {\n",
       "        text-align: right;\n",
       "    }\n",
       "</style>\n",
       "<table border=\"1\" class=\"dataframe\">\n",
       "  <thead>\n",
       "    <tr style=\"text-align: right;\">\n",
       "      <th></th>\n",
       "      <th>number</th>\n",
       "      <th>price</th>\n",
       "    </tr>\n",
       "    <tr>\n",
       "      <th>datetime</th>\n",
       "      <th></th>\n",
       "      <th></th>\n",
       "    </tr>\n",
       "  </thead>\n",
       "  <tbody>\n",
       "    <tr>\n",
       "      <th>2022-02-10 13:30:12</th>\n",
       "      <td>14178613</td>\n",
       "      <td>3235.666989</td>\n",
       "    </tr>\n",
       "    <tr>\n",
       "      <th>2022-02-10 13:30:24</th>\n",
       "      <td>14178614</td>\n",
       "      <td>3230.388581</td>\n",
       "    </tr>\n",
       "    <tr>\n",
       "      <th>2022-02-10 13:30:35</th>\n",
       "      <td>14178615</td>\n",
       "      <td>3224.810783</td>\n",
       "    </tr>\n",
       "    <tr>\n",
       "      <th>2022-02-10 13:30:55</th>\n",
       "      <td>14178616</td>\n",
       "      <td>3224.810783</td>\n",
       "    </tr>\n",
       "    <tr>\n",
       "      <th>2022-02-10 13:30:56</th>\n",
       "      <td>14178617</td>\n",
       "      <td>3208.462792</td>\n",
       "    </tr>\n",
       "    <tr>\n",
       "      <th>2022-02-10 13:31:03</th>\n",
       "      <td>14178618</td>\n",
       "      <td>3202.820041</td>\n",
       "    </tr>\n",
       "    <tr>\n",
       "      <th>2022-02-10 13:31:42</th>\n",
       "      <td>14178619</td>\n",
       "      <td>3189.080102</td>\n",
       "    </tr>\n",
       "    <tr>\n",
       "      <th>2022-02-10 13:32:05</th>\n",
       "      <td>14178620</td>\n",
       "      <td>3189.080102</td>\n",
       "    </tr>\n",
       "    <tr>\n",
       "      <th>2022-02-10 13:32:07</th>\n",
       "      <td>14178621</td>\n",
       "      <td>3188.430506</td>\n",
       "    </tr>\n",
       "    <tr>\n",
       "      <th>2022-02-10 13:32:11</th>\n",
       "      <td>14178622</td>\n",
       "      <td>3188.430506</td>\n",
       "    </tr>\n",
       "    <tr>\n",
       "      <th>2022-02-10 13:32:15</th>\n",
       "      <td>14178623</td>\n",
       "      <td>3188.883908</td>\n",
       "    </tr>\n",
       "    <tr>\n",
       "      <th>2022-02-10 13:32:21</th>\n",
       "      <td>14178624</td>\n",
       "      <td>3188.883908</td>\n",
       "    </tr>\n",
       "  </tbody>\n",
       "</table>\n",
       "</div>"
      ],
      "text/plain": [
       "                       number        price\n",
       "datetime                                  \n",
       "2022-02-10 13:30:12  14178613  3235.666989\n",
       "2022-02-10 13:30:24  14178614  3230.388581\n",
       "2022-02-10 13:30:35  14178615  3224.810783\n",
       "2022-02-10 13:30:55  14178616  3224.810783\n",
       "2022-02-10 13:30:56  14178617  3208.462792\n",
       "2022-02-10 13:31:03  14178618  3202.820041\n",
       "2022-02-10 13:31:42  14178619  3189.080102\n",
       "2022-02-10 13:32:05  14178620  3189.080102\n",
       "2022-02-10 13:32:07  14178621  3188.430506\n",
       "2022-02-10 13:32:11  14178622  3188.430506\n",
       "2022-02-10 13:32:15  14178623  3188.883908\n",
       "2022-02-10 13:32:21  14178624  3188.883908"
      ]
     },
     "execution_count": 40,
     "metadata": {},
     "output_type": "execute_result"
    }
   ],
   "source": [
    "cdf = cex_df.copy()\n",
    "# Calculate the absolute difference between open and close prices for cex\n",
    "cdf['shock_height'] = abs(df['open'] - df['close'])\n",
    "cdf['price_diff'] = df['close'] - df['open']\n",
    "index = cdf['shock_height'].idxmax()\n",
    "\n",
    "ddf = dex_df.loc[index:].head(12)\n",
    "ddf"
   ]
  },
  {
   "cell_type": "code",
   "execution_count": 44,
   "metadata": {},
   "outputs": [
    {
     "data": {
      "image/png": "[encoded data removed]",
      "text/plain": [
       "<Figure size 500x300 with 1 Axes>"
      ]
     },
     "metadata": {},
     "output_type": "display_data"
    }
   ],
   "source": [
    "import pandas as pd\n",
    "import matplotlib.pyplot as plt\n",
    "\n",
    "# Let's assume your dataframe is named df and has a DateTime index\n",
    "ddf['time'] = ddf.index.time\n",
    "ddf['number_time'] = ddf['number'].astype(str) + ' (' + ddf['time'].astype(str) + ')'\n",
    "\n",
    "fig, ax = plt.subplots(figsize=(5, 3))\n",
    "\n",
    "# Plot the data\n",
    "ax.plot(ddf['number_time'], ddf['price'])\n",
    "\n",
    "ax.set_xlabel('Block (Time)')\n",
    "ax.set_ylabel('Price')\n",
    "ax.set_title('Dex Price Shock Effect')\n",
    "\n",
    "# Rotate x-axis labels for better visibility and display every 5th label\n",
    "x_ticks = np.arange(len(ddf['number_time']))\n",
    "ax.set_xticks(x_ticks)\n",
    "ax.set_xticklabels([item if idx % 5 == 0 else '' for idx, item in enumerate(ddf['number_time'])])\n",
    "\n",
    "# Draw grid manually\n",
    "for i, x in enumerate(x_ticks):\n",
    "    if i % 5 == 0:  # Major grid lines\n",
    "        ax.axvline(x, color='grey', linewidth=0.5, linestyle='-')\n",
    "    else:  # Minor grid lines\n",
    "        ax.axvline(x, color='lightgrey', linewidth=0.5, linestyle='-')\n",
    "\n",
    "plt.tight_layout()\n",
    "plt.show()"
   ]
  }
 ],
 "metadata": {
  "kernelspec": {
   "display_name": "caa_statistics",
   "language": "python",
   "name": "python3"
  },
  "language_info": {
   "codemirror_mode": {
    "name": "ipython",
    "version": 3
   },
   "file_extension": ".py",
   "mimetype": "text/x-python",
   "name": "python",
   "nbconvert_exporter": "python",
   "pygments_lexer": "ipython3",
   "version": "3.11.3"
  },
  "orig_nbformat": 4
 },
 "nbformat": 4,
 "nbformat_minor": 2
}
